{
 "cells": [
  {
   "cell_type": "code",
   "metadata": {
    "ExecuteTime": {
     "end_time": "2024-10-02T09:22:43.955526Z",
     "start_time": "2024-10-02T09:22:43.937227Z"
    }
   },
   "source": [
    "from cgi import print_form\n",
    "from os import chmod\n",
    "\n",
    "import numpy as np\n",
    "import pandas as pd\n",
    "from exceptiongroup import print_exc\n",
    "from scipy.stats import truncnorm, norm\n",
    "from six import print_\n",
    "\n",
    "\n",
    "# Conditional skills\n",
    "def conditional_skills(mu_s1, mu_s2, sigma_s1, sigma_s2, t, outcome_var):\n",
    "    mean_s = np.array([mu_s1, mu_s2])\n",
    "    cov_s = np.array([[sigma_s1, 0],\n",
    "                      [0, sigma_s2]])  # Covariance matrix with S_12 and S_21\n",
    "    outcome_mean = mu_s1 - mu_s2\n",
    "    outcome_var = sigma_s1 + sigma_s2 + outcome_var # Outcome variance\n",
    "\n",
    "    # Conditional mean update\n",
    "    mean_cond = mean_s + (t - outcome_mean) / outcome_var * np.array([sigma_s1, -sigma_s2])\n",
    "\n",
    "    # Conditional covariance update\n",
    "    cov_cond = cov_s - np.outer([sigma_s1, -sigma_s2], [sigma_s1, -sigma_s2]) / outcome_var\n",
    "  \n",
    "    return mean_cond, cov_cond\n",
    "\n",
    "\n",
    "# Conditional outcome (truncated Gaussian)\n",
    "def conditional_outcome(mu_s1, mu_s2, result, outcome_var): #changed so that it only depends on mu_s1 and mu_s2\n",
    "    mean_diff = mu_s1 - mu_s2\n",
    "    std_diff = outcome_var\n",
    "\n",
    "    # Set truncation limits based on match outcome\n",
    "    if result == 1:\n",
    "        a, b = 0, np.inf  # Truncate for team 1 winning\n",
    "    else:\n",
    "        a, b = -np.inf, 0  # Truncate for team 2 winning\n",
    "\n",
    "    # Create truncated Gaussian distribution\n",
    "    trunc_gauss_dist = truncnorm(a=(a - mean_diff) / std_diff, b=(b - mean_diff) / std_diff, loc=mean_diff, scale=std_diff)\n",
    "    \n",
    "    return a,b\n",
    "\n",
    "\n",
    "\n",
    "# Marginal probability that team 1 wins\n",
    "def marginal_p_y1(mu_s1, mu_s2, sigma_s1, sigma_s2, sigma_t):\n",
    "    mu_diff = mu_s1 - mu_s2\n",
    "    sigma_diff = np.sqrt(sigma_s1 + sigma_s2 + sigma_t)\n",
    "    p_y1 = 1 - norm.cdf(0, loc=mu_diff, scale=sigma_diff)\n",
    "    return p_y1\n",
    "\n",
    "n_iter = 100 \n",
    "mu_s1 = 25 # Initial mean for player 1\n",
    "mu_s2 = 25 # Initial mean for player 2\n",
    "sigma_s1 = 8.33 # Variance for player 1\n",
    "sigma_s2 = 8.33 # Variance for player 2\n",
    "sigma_t = 25/6 # Outcome variance"
   ],
   "outputs": [],
   "execution_count": 65
  },
  {
   "metadata": {
    "ExecuteTime": {
     "end_time": "2024-10-02T09:22:43.979002Z",
     "start_time": "2024-10-02T09:22:43.971515Z"
    }
   },
   "cell_type": "code",
   "source": [
    "def gibbs_sampler_result(mu_s1, mu_s2, sigma_s1, sigma_s2, sigma_t, n_iter, result):\n",
    "    s1_samples = np.zeros(n_iter)\n",
    "    s2_samples = np.zeros(n_iter)\n",
    "    t_samples = np.zeros(n_iter)\n",
    "    y_samples = np.zeros(n_iter)\n",
    "    s1, s2 = mu_s1, mu_s2\n",
    "\n",
    "    #initializing the truncation limits\n",
    "    a, b = conditional_outcome(s1, s2, result, sigma_t)\n",
    "    t = truncnorm.rvs(a, b, loc=s1 - s2, scale= sigma_t)\n",
    "\n",
    "    for i in range(n_iter):\n",
    "        y = result \n",
    "        mean_cond, cov_cond = conditional_skills(mu_s1, mu_s2,sigma_s1, sigma_s2, t, sigma_t) # P(s1, s2 | t)\n",
    "        s1, s2 = np.random.multivariate_normal(mean_cond, cov_cond)\n",
    "        s1_samples[i] = s1\n",
    "        s2_samples[i] = s2\n",
    "        a, b = conditional_outcome(s1, s2, y, sigma_t)\n",
    "        t = truncnorm.rvs(a, b, loc=s1 - s2, scale= sigma_t) #P(t | s1, s2 ,y)\n",
    "        t_samples[i] = t\n",
    "        y_samples[i] = y\n",
    "\n",
    "    return s1_samples, s2_samples, t_samples"
   ],
   "outputs": [],
   "execution_count": 66
  },
  {
   "metadata": {
    "ExecuteTime": {
     "end_time": "2024-10-02T09:22:44.043252Z",
     "start_time": "2024-10-02T09:22:44.030807Z"
    }
   },
   "cell_type": "code",
   "source": [
    "import pandas as pd\n",
    "data = 'SerieA.csv'\n",
    "df = pd.read_csv(data)\n",
    "df_filtered = df[df['score1'] != df['score2']].copy()  # Use .copy() to avoid the warning\n",
    "df_filtered.loc[:, 'win'] = df_filtered.apply(lambda row: 1 if row['score1'] > row['score2'] else -1, axis=1)"
   ],
   "outputs": [],
   "execution_count": 67
  },
  {
   "metadata": {
    "ExecuteTime": {
     "end_time": "2024-10-02T09:22:44.055401Z",
     "start_time": "2024-10-02T09:22:44.050380Z"
    }
   },
   "cell_type": "code",
   "source": "print(df_filtered)",
   "outputs": [
    {
     "name": "stdout",
     "output_type": "stream",
     "text": [
      "     yyyy-mm-dd  HH:MM     team1     team2  score1  score2  win\n",
      "0    2018-08-18  18:00    Chievo  Juventus       2       3   -1\n",
      "1    2018-08-18  20:30     Lazio    Napoli       1       2   -1\n",
      "2    2018-08-19  18:00    Torino      Roma       0       1   -1\n",
      "3    2018-08-19  20:30  Sassuolo     Inter       1       0    1\n",
      "5    2018-08-19  20:30    Empoli  Cagliari       2       0    1\n",
      "..          ...    ...       ...       ...     ...     ...  ...\n",
      "374  2019-05-26  20:30      Spal     Milan       2       3   -1\n",
      "375  2019-05-26  20:30      Roma     Parma       2       1    1\n",
      "376  2019-05-26  20:30     Inter    Empoli       2       1    1\n",
      "378  2019-05-26  20:30  Cagliari   Udinese       1       2   -1\n",
      "379  2019-05-26  20:30  Atalanta  Sassuolo       3       1    1\n",
      "\n",
      "[272 rows x 7 columns]\n"
     ]
    }
   ],
   "execution_count": 68
  },
  {
   "metadata": {
    "ExecuteTime": {
     "end_time": "2024-10-02T09:22:44.104763Z",
     "start_time": "2024-10-02T09:22:44.100958Z"
    }
   },
   "cell_type": "code",
   "source": [
    "#Initialize skills for every team\n",
    "skills = {}\n",
    "for team in df_filtered['team1'].unique():\n",
    "    skills[team] = (25, 8.33)\n",
    "for team in df_filtered['team2'].unique():\n",
    "    skills[team] = (25, 8.33) "
   ],
   "outputs": [],
   "execution_count": 69
  },
  {
   "metadata": {
    "ExecuteTime": {
     "end_time": "2024-10-02T09:22:44.132598Z",
     "start_time": "2024-10-02T09:22:44.126659Z"
    }
   },
   "cell_type": "code",
   "source": "print(skills)",
   "outputs": [
    {
     "name": "stdout",
     "output_type": "stream",
     "text": [
      "{'Chievo': (25, 8.33), 'Lazio': (25, 8.33), 'Torino': (25, 8.33), 'Sassuolo': (25, 8.33), 'Empoli': (25, 8.33), 'Bologna': (25, 8.33), 'Atalanta': (25, 8.33), 'Juventus': (25, 8.33), 'Napoli': (25, 8.33), 'Spal': (25, 8.33), 'Udinese': (25, 8.33), 'Genoa': (25, 8.33), 'Fiorentina': (25, 8.33), 'Milan': (25, 8.33), 'Parma': (25, 8.33), 'Sampdoria': (25, 8.33), 'Inter': (25, 8.33), 'Frosinone': (25, 8.33), 'Roma': (25, 8.33), 'Cagliari': (25, 8.33)}\n"
     ]
    }
   ],
   "execution_count": 70
  },
  {
   "metadata": {
    "jupyter": {
     "is_executing": true
    },
    "ExecuteTime": {
     "start_time": "2024-10-02T09:22:44.312952Z"
    }
   },
   "cell_type": "code",
   "source": [
    "#run the Gibbs sampler for every match\n",
    "n_iter = 100 \n",
    "sigma_t = 25/6\n",
    "\n",
    "for index, row in df_filtered.iterrows():\n",
    "    team1 = row['team1']\n",
    "    team2 = row['team2']\n",
    "    result = row['win']\n",
    "    mu_s1, sigma_s1 = skills[team1]\n",
    "    mu_s2, sigma_s2 = skills[team2]\n",
    "    s1_samples, s2_samples, t_samples = gibbs_sampler_result(mu_s1, mu_s2, sigma_s1, sigma_s2, sigma_t, n_iter, result)\n",
    "    skills[team1] = (np.mean(s1_samples), np.var(s1_samples, ddof=1))\n",
    "    skills[team2] = (np.mean(s2_samples), np.var(s2_samples, ddof=1))\n",
    "    \n",
    "    \n"
   ],
   "outputs": [],
   "execution_count": null
  },
  {
   "metadata": {
    "ExecuteTime": {
     "end_time": "2024-10-02T08:44:25.262874Z",
     "start_time": "2024-10-02T08:44:25.256103Z"
    }
   },
   "cell_type": "code",
   "source": [
    "# Sorting the dictionary by the first value in the tuple (in ascending order)\n",
    "sorted_data = sorted(skills.items(), key=lambda x: x[1][0])\n",
    "\n",
    "\n",
    "# Print the sorted result\n",
    "for team, values in sorted_data:\n",
    "    print(f\"{team}: {values}\")"
   ],
   "outputs": [
    {
     "name": "stdout",
     "output_type": "stream",
     "text": [
      "Genoa: (np.float64(-886.8557243489212), np.float64(4191.51283424325))\n",
      "Parma: (np.float64(-886.1263384872487), np.float64(6663.8022137942))\n",
      "Empoli: (np.float64(-788.9283087905463), np.float64(2952.647629430265))\n",
      "Frosinone: (np.float64(-683.5572679899904), np.float64(3575.961094752926))\n",
      "Spal: (np.float64(-564.7740955465595), np.float64(4538.449604828137))\n",
      "Udinese: (np.float64(-348.9675018788974), np.float64(5442.61316928823))\n",
      "Sassuolo: (np.float64(-262.37175488379967), np.float64(5545.553818412744))\n",
      "Bologna: (np.float64(-253.41579325717805), np.float64(5719.59850623399))\n",
      "Fiorentina: (np.float64(-230.55191412311854), np.float64(2543.8940717092128))\n",
      "Cagliari: (np.float64(-190.90907480463983), np.float64(6334.6861166543285))\n",
      "Chievo: (np.float64(-66.72418365350975), np.float64(138.36550410151293))\n",
      "Sampdoria: (np.float64(-37.42337529602524), np.float64(5459.91768257253))\n",
      "Lazio: (np.float64(29.187817297851637), np.float64(806.6090987804874))\n",
      "Inter: (np.float64(494.82266115023316), np.float64(6996.6231476809735))\n",
      "Torino: (np.float64(707.3765377645145), np.float64(7413.29307889441))\n",
      "Milan: (np.float64(747.4182187616719), np.float64(5890.175311926932))\n",
      "Roma: (np.float64(766.4899396527945), np.float64(4928.479872545522))\n",
      "Atalanta: (np.float64(1132.4069136941473), np.float64(6028.857159302221))\n",
      "Napoli: (np.float64(1202.8152154287613), np.float64(3614.8682896437726))\n",
      "Juventus: (np.float64(2574.802212079926), np.float64(3809.3902384430544))\n"
     ]
    }
   ],
   "execution_count": 43
  },
  {
   "metadata": {
    "ExecuteTime": {
     "end_time": "2024-10-02T08:44:25.337319Z",
     "start_time": "2024-10-02T08:44:25.321469Z"
    }
   },
   "cell_type": "code",
   "source": [
    "data = 'SerieA.csv'\n",
    "df_random = pd.read_csv(data)\n",
    "df_random = df_random[df_random['score1'] != df_random['score2']].copy()  # Use .copy() to avoid the warning\n",
    "df_random.loc[:, 'win'] = df_random.apply(lambda row: 1 if row['score1'] > row['score2'] else -1, axis=1)\n",
    "df_shuffled = df_random.sample(frac=1).reset_index(drop=True)"
   ],
   "outputs": [],
   "execution_count": 44
  },
  {
   "metadata": {
    "ExecuteTime": {
     "end_time": "2024-10-02T08:44:25.381661Z",
     "start_time": "2024-10-02T08:44:25.376180Z"
    }
   },
   "cell_type": "code",
   "source": "print(df_shuffled)",
   "outputs": [
    {
     "name": "stdout",
     "output_type": "stream",
     "text": [
      "     yyyy-mm-dd  HH:MM      team1       team2  score1  score2  win\n",
      "0    2018-12-01  20:30  Sampdoria     Bologna       4       1    1\n",
      "1    2018-12-29  15:00    Udinese    Cagliari       2       0    1\n",
      "2    2019-05-19  18:00      Milan   Frosinone       2       0    1\n",
      "3    2018-11-04  20:30    Udinese       Milan       0       1   -1\n",
      "4    2018-08-25  18:00   Juventus       Lazio       2       0    1\n",
      "..          ...    ...        ...         ...     ...     ...  ...\n",
      "267  2018-09-15  18:00     Napoli  Fiorentina       1       0    1\n",
      "268  2018-12-15  18:00      Inter     Udinese       1       0    1\n",
      "269  2018-09-27  19:00       Spal    Sassuolo       0       2   -1\n",
      "270  2019-01-19  18:00    Udinese       Parma       1       2   -1\n",
      "271  2019-03-17  15:00      Lazio       Parma       4       1    1\n",
      "\n",
      "[272 rows x 7 columns]\n"
     ]
    }
   ],
   "execution_count": 45
  },
  {
   "metadata": {
    "ExecuteTime": {
     "end_time": "2024-10-02T08:44:25.417982Z",
     "start_time": "2024-10-02T08:44:25.414035Z"
    }
   },
   "cell_type": "code",
   "source": [
    "skills = {}\n",
    "for team in df_shuffled['team1'].unique():\n",
    "    skills[team] = (25, 8.33)\n",
    "for team in df_shuffled['team2'].unique():\n",
    "    skills[team] = (25, 8.33)\n",
    "\n",
    "print(skills)"
   ],
   "outputs": [
    {
     "name": "stdout",
     "output_type": "stream",
     "text": [
      "{'Sampdoria': (25, 8.33), 'Udinese': (25, 8.33), 'Milan': (25, 8.33), 'Juventus': (25, 8.33), 'Inter': (25, 8.33), 'Cagliari': (25, 8.33), 'Napoli': (25, 8.33), 'Frosinone': (25, 8.33), 'Lazio': (25, 8.33), 'Roma': (25, 8.33), 'Atalanta': (25, 8.33), 'Empoli': (25, 8.33), 'Fiorentina': (25, 8.33), 'Bologna': (25, 8.33), 'Parma': (25, 8.33), 'Spal': (25, 8.33), 'Chievo': (25, 8.33), 'Sassuolo': (25, 8.33), 'Torino': (25, 8.33), 'Genoa': (25, 8.33)}\n"
     ]
    }
   ],
   "execution_count": 46
  },
  {
   "metadata": {
    "ExecuteTime": {
     "end_time": "2024-10-02T08:44:27.185971Z",
     "start_time": "2024-10-02T08:44:25.452337Z"
    }
   },
   "cell_type": "code",
   "source": [
    "n_iter = 10 \n",
    "sigma_t = 25/6\n",
    "for index, row in df_shuffled.iterrows():\n",
    "    team1 = row['team1']\n",
    "    team2 = row['team2']\n",
    "    result = row['win']\n",
    "    mu_s1, sigma_s1 = skills[team1]\n",
    "    mu_s2, sigma_s2 = skills[team2]\n",
    "    s1_samples, s2_samples, t_samples = gibbs_sampler_result(mu_s1, mu_s2, sigma_s1, sigma_s2, sigma_t, n_iter, result)\n",
    "    skills[team1] = (np.mean(s1_samples), np.var(s1_samples, ddof=1))\n",
    "    skills[team2] = (np.mean(s2_samples), np.var(s2_samples, ddof=1))"
   ],
   "outputs": [],
   "execution_count": 47
  },
  {
   "metadata": {
    "ExecuteTime": {
     "end_time": "2024-10-02T08:44:27.206542Z",
     "start_time": "2024-10-02T08:44:27.201862Z"
    }
   },
   "cell_type": "code",
   "source": [
    "sorted_data = sorted(skills.items(), key=lambda x: x[1][0])\n",
    "for team, values in sorted_data:\n",
    "    print(f\"{team}: {values}\")"
   ],
   "outputs": [
    {
     "name": "stdout",
     "output_type": "stream",
     "text": [
      "Spal: (np.float64(-26.91549475712178), np.float64(79.19838786785277))\n",
      "Frosinone: (np.float64(-3.7175388498455524), np.float64(0.024760300838359353))\n",
      "Chievo: (np.float64(-1.3157023197393802), np.float64(0.6428189768241306))\n",
      "Sassuolo: (np.float64(11.086133614107487), np.float64(4.1468182278836245))\n",
      "Cagliari: (np.float64(13.70017215701821), np.float64(0.553867409725009))\n",
      "Parma: (np.float64(20.45992380562432), np.float64(6.541697095215325))\n",
      "Fiorentina: (np.float64(20.73440277879855), np.float64(0.6393217672923578))\n",
      "Genoa: (np.float64(21.739678831722287), np.float64(0.006849326023960999))\n",
      "Udinese: (np.float64(26.281329149559618), np.float64(0.009641906543119218))\n",
      "Empoli: (np.float64(29.814321717278972), np.float64(0.006822917103627497))\n",
      "Bologna: (np.float64(30.48008902343895), np.float64(20.27899911149764))\n",
      "Sampdoria: (np.float64(32.9025558788923), np.float64(0.00022354200900542382))\n",
      "Torino: (np.float64(33.17994146805493), np.float64(0.3877082196572903))\n",
      "Roma: (np.float64(40.836674332940866), np.float64(0.04939041711921186))\n",
      "Milan: (np.float64(50.18844344019923), np.float64(1.0896042604985228))\n",
      "Inter: (np.float64(62.226582465471914), np.float64(34.957618337095795))\n",
      "Lazio: (np.float64(65.87526463127435), np.float64(3.068844450070628))\n",
      "Atalanta: (np.float64(66.67523403910275), np.float64(5.157337324620249))\n",
      "Juventus: (np.float64(88.9413966730164), np.float64(1.7386796679153926))\n",
      "Napoli: (np.float64(100.47796273133152), np.float64(0.06416987121421652))\n"
     ]
    }
   ],
   "execution_count": 48
  },
  {
   "metadata": {
    "ExecuteTime": {
     "end_time": "2024-10-02T08:45:37.133756Z",
     "start_time": "2024-10-02T08:45:37.126171Z"
    }
   },
   "cell_type": "code",
   "source": [
    "def win_probability_player1(mu_s1, mu_s2, sigma_s1, sigma_s2, sigma_t):\n",
    "    mu_diff = mu_s1 - mu_s2\n",
    "    sigma_diff = np.sqrt(sigma_s1 + sigma_s2 + sigma_t)\n",
    "    p_y1 = 1 - norm.cdf(0, loc=mu_diff, scale=sigma_diff)\n",
    "    return p_y1"
   ],
   "outputs": [],
   "execution_count": 54
  },
  {
   "metadata": {
    "ExecuteTime": {
     "end_time": "2024-10-02T08:49:15.256560Z",
     "start_time": "2024-10-02T08:49:15.242726Z"
    }
   },
   "cell_type": "code",
   "source": [
    "mu_s1, sigma_s1 = skills['Lazio']\n",
    "mu_s2, sigma_s2 = skills['Inter']\n",
    "sigma_t = 25/6"
   ],
   "outputs": [],
   "execution_count": 63
  },
  {
   "metadata": {
    "ExecuteTime": {
     "end_time": "2024-10-02T08:49:15.394759Z",
     "start_time": "2024-10-02T08:49:15.390773Z"
    }
   },
   "cell_type": "code",
   "source": [
    "print(\"Skills of Napoli is:,\" , mu_s1, sigma_s1)\n",
    "print(\"Skills of Inter is:,\" , mu_s2, sigma_s2)\n",
    "\n",
    "print(\"Win probability for team1:\", win_probability_player1(mu_s1, mu_s2, sigma_s1, sigma_s2, sigma_t))"
   ],
   "outputs": [
    {
     "name": "stdout",
     "output_type": "stream",
     "text": [
      "Skills of Napoli is:, 65.87526463127435 3.068844450070628\n",
      "Skills of Inter is:, 62.226582465471914 34.957618337095795\n",
      "Win probability for team1: 0.7128445161584157\n"
     ]
    }
   ],
   "execution_count": 64
  },
  {
   "metadata": {
    "ExecuteTime": {
     "end_time": "2024-10-02T08:44:27.400658Z",
     "start_time": "2024-10-02T08:44:27.398451Z"
    }
   },
   "cell_type": "code",
   "source": "",
   "outputs": [],
   "execution_count": null
  }
 ],
 "metadata": {
  "kernelspec": {
   "display_name": "Python 3",
   "language": "python",
   "name": "python3"
  },
  "language_info": {
   "codemirror_mode": {
    "name": "ipython",
    "version": 3
   },
   "file_extension": ".py",
   "mimetype": "text/x-python",
   "name": "python",
   "nbconvert_exporter": "python",
   "pygments_lexer": "ipython3",
   "version": "3.12.5"
  }
 },
 "nbformat": 4,
 "nbformat_minor": 2
}
