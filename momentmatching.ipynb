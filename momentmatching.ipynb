{
 "cells": [
  {
   "cell_type": "code",
   "metadata": {
    "ExecuteTime": {
     "end_time": "2024-10-08T13:50:19.810779Z",
     "start_time": "2024-10-08T13:50:19.802033Z"
    }
   },
   "source": [
    "import numpy as np\n",
    "import pandas as pd\n",
    "from scipy.stats import truncnorm, norm\n",
    "import matplotlib.pyplot as plt\n",
    "import seaborn as sns\n",
    "from six import print_, moves\n",
    "\n",
    "\n",
    "# Conditional Outcome Function\n",
    "def conditional_outcome(s1, s2, result, sigma_t):\n",
    "    mean_diff = s1 - s2\n",
    "    std_diff = sigma_t\n",
    "\n",
    "    if result == 1:\n",
    "        a, b = 0, np.inf  \n",
    "    else:\n",
    "        a, b = -np.inf, 0  \n",
    "\n",
    "    a_std = (a - mean_diff) / std_diff\n",
    "    b_std = (b - mean_diff) / std_diff\n",
    "\n",
    "    return a_std, b_std, mean_diff, std_diff\n",
    "\n",
    "def gibbs_sampler_result(mu_s1, mu_s2, sigma_s1, sigma_s2, sigma_t, n_iter, result):\n",
    "    s1_samples = np.zeros(n_iter)\n",
    "    s2_samples = np.zeros(n_iter)\n",
    "    t_samples = np.zeros(n_iter)\n",
    "    y_samples = np.zeros(n_iter)\n",
    "    \n",
    "    s1_current = mu_s1\n",
    "    s2_current = mu_s2\n",
    "\n",
    "    mu_prior = np.array([mu_s1, mu_s2]).reshape((2, 1))\n",
    "    sigma_prior = np.array([[sigma_s1, 0], [0, sigma_s2]])\n",
    "    sigma_prior_inv = np.linalg.inv(sigma_prior)\n",
    "\n",
    "    A = np.array([1, -1]).reshape((1, 2))\n",
    "    A_T = A.T\n",
    "\n",
    "    for i in range(n_iter):\n",
    "        a_std, b_std, mean_diff, std_diff = conditional_outcome(s1_current, s2_current, result, sigma_t)\n",
    "        t_current = truncnorm.rvs(a=a_std, b=b_std, loc=mean_diff, scale=std_diff)\n",
    "        sigma_post = np.linalg.inv(sigma_prior_inv + (A_T @ A) / sigma_t**2)\n",
    "        mu_post = sigma_post @ (sigma_prior_inv @ mu_prior + (A_T * t_current) / sigma_t**2)\n",
    "        s1_current, s2_current = np.random.multivariate_normal(mu_post.flatten(), sigma_post)\n",
    "        s1_samples[i] = s1_current\n",
    "        s2_samples[i] = s2_current\n",
    "        t_samples[i] = t_current\n",
    "        y_samples[i] = result\n",
    "\n",
    "    mean_s1 = np.mean(s1_samples)\n",
    "    var_s1 = np.var(s1_samples, ddof=1)\n",
    "    mean_s2 = np.mean(s2_samples)\n",
    "    var_s2 = np.var(s2_samples, ddof=1)\n",
    "\n",
    "    return mean_s1, var_s1, mean_s2, var_s2\n",
    "\n",
    "def win_probability_player1(mu_s1, mu_s2, sigma_s1, sigma_s2, sigma_t):\n",
    "    mu_diff = mu_s1 - mu_s2\n",
    "    sigma_diff = np.sqrt(sigma_s1 + sigma_s2 + sigma_t**2)\n",
    "    p_y1 = 1 - norm.cdf(0, loc=mu_diff, scale=sigma_diff)\n",
    "    return p_y1\n",
    "\n",
    "\n"
   ],
   "outputs": [],
   "execution_count": 6
  },
  {
   "metadata": {
    "ExecuteTime": {
     "end_time": "2024-10-08T13:52:13.110559Z",
     "start_time": "2024-10-08T13:52:10.453336Z"
    }
   },
   "cell_type": "code",
   "source": [
    "data_file = 'SerieA.csv'\n",
    "df = pd.read_csv(data_file)\n",
    "df_filtered = df[df['score1'] != df['score2']].copy()\n",
    "df_filtered['win'] = df_filtered.apply(lambda row: 1 if row['score1'] > row['score2'] else -1, axis=1)\n",
    "initial_mu = 25\n",
    "initial_sigma = 8.33 ** 2\n",
    "sigma_t = 25 / 6\n",
    "teams = set(df_filtered['team1']).union(set(df_filtered['team2']))\n",
    "skills = {team: (initial_mu, initial_sigma) for team in teams}\n",
    "n_iter = 100 \n",
    "predictions = []\n",
    "random_predictions = []\n",
    "\n",
    "\n",
    "\n",
    "for index, row in df_filtered.iterrows():\n",
    "    team1 = row['team1']\n",
    "    team2 = row['team2']\n",
    "    result = row['win']\n",
    "\n",
    "    # Get prior means and variances\n",
    "    mu_s1, sigma_s1 = skills[team1]\n",
    "    mu_s2, sigma_s2 = skills[team2]\n",
    "\n",
    "    # Run Gibbs sampler\n",
    "    mean_s1, var_s1, mean_s2, var_s2 = gibbs_sampler_result(mu_s1, mu_s2, sigma_s1, sigma_s2, sigma_t, n_iter, result)\n",
    "\n",
    "    # Update skills: Update both mean and variance\n",
    "    skills[team1] = (mean_s1, var_s1)\n",
    "    skills[team2] = (mean_s2, var_s2)\n",
    "    \n",
    "    if index < 272:\n",
    "        p_y1 = win_probability_player1(mu_s1, mu_s2, sigma_s1, sigma_s2, sigma_t)\n",
    "        predictions.append(1 if p_y1 > 0.5 else -1)\n",
    "        random_predictions.append(1 if np.random.rand() > 0.5 else -1)\n",
    "\n",
    "correct = 0\n",
    "correct_random = 0\n",
    "\n",
    "for i in range(len(predictions)):\n",
    "    if predictions[i] == df_filtered.iloc[i]['win']:\n",
    "        correct += 1\n",
    "    if random_predictions[i] == df_filtered.iloc[i]['win']:\n",
    "        correct_random += 1\n",
    "\n",
    "print(f\"Accuracy of the model: {correct / len(predictions)}\")\n",
    "print(f\"Accuracy of the random model: {correct_random / len(predictions)}\")"
   ],
   "outputs": [
    {
     "name": "stdout",
     "output_type": "stream",
     "text": [
      "Accuracy of the model: 0.6494845360824743\n",
      "Accuracy of the random model: 0.4742268041237113\n"
     ]
    }
   ],
   "execution_count": 11
  },
  {
   "metadata": {
    "ExecuteTime": {
     "end_time": "2024-10-08T13:52:14.044539Z",
     "start_time": "2024-10-08T13:52:14.038873Z"
    }
   },
   "cell_type": "code",
   "source": [
    "# Sort and Display the Updated Skills\n",
    "# Sort teams by their updated mean skills in descending order\n",
    "sorted_skills = sorted(skills.items(), key=lambda x: x[1][0], reverse=True)\n",
    "\n",
    "print(\"\\nUpdated Skills:\")\n",
    "for team, (mu, sigma) in sorted_skills:\n",
    "    print(f\"{team}: Mean Skill = {mu:.2f}, Variance = {sigma:.2f}\")\n",
    "\n"
   ],
   "outputs": [
    {
     "name": "stdout",
     "output_type": "stream",
     "text": [
      "\n",
      "Updated Skills:\n",
      "Juventus: Mean Skill = 32.57, Variance = 1.32\n",
      "Milan: Mean Skill = 28.33, Variance = 1.51\n",
      "Inter: Mean Skill = 28.21, Variance = 1.84\n",
      "Atalanta: Mean Skill = 27.28, Variance = 1.20\n",
      "Napoli: Mean Skill = 27.19, Variance = 3.01\n",
      "Roma: Mean Skill = 26.90, Variance = 1.45\n",
      "Torino: Mean Skill = 26.35, Variance = 1.74\n",
      "Lazio: Mean Skill = 25.70, Variance = 0.78\n",
      "Sampdoria: Mean Skill = 24.22, Variance = 0.99\n",
      "Spal: Mean Skill = 23.91, Variance = 1.95\n",
      "Bologna: Mean Skill = 23.89, Variance = 1.64\n",
      "Cagliari: Mean Skill = 23.30, Variance = 2.36\n",
      "Parma: Mean Skill = 23.23, Variance = 1.13\n",
      "Genoa: Mean Skill = 23.14, Variance = 2.65\n",
      "Empoli: Mean Skill = 23.10, Variance = 1.75\n",
      "Fiorentina: Mean Skill = 22.94, Variance = 1.10\n",
      "Udinese: Mean Skill = 22.79, Variance = 2.42\n",
      "Sassuolo: Mean Skill = 22.40, Variance = 1.30\n",
      "Frosinone: Mean Skill = 19.64, Variance = 1.69\n",
      "Chievo: Mean Skill = 18.72, Variance = 3.51\n"
     ]
    }
   ],
   "execution_count": 12
  },
  {
   "metadata": {
    "ExecuteTime": {
     "end_time": "2024-10-08T13:54:27.285702Z",
     "start_time": "2024-10-08T13:54:26.869216Z"
    }
   },
   "cell_type": "code",
   "source": [
    "n = 1000\n",
    "mu1, sigma1 = 25, 8.33 ** 2\n",
    "mu2, sigma2 = 25, 8.33 ** 2\n",
    "sigma_t = (25 / 6) \n",
    "result = 1\n",
    "s1_mean, s1_variance, s2_mean, s2_variance = gibbs_sampler_result(mu1, mu2, sigma1, sigma2, sigma_t, n, result)\n",
    "\n",
    "print(f\"Mean of s1: {s1_mean}\")\n",
    "print(f\"Variance of s1: {s1_variance}\")\n",
    "print(f\"Mean of s2: {s2_mean}\")\n",
    "print(f\"Variance of s2: {s2_variance}\")\n"
   ],
   "outputs": [
    {
     "name": "stdout",
     "output_type": "stream",
     "text": [
      "Mean of s1: 29.015796190129848\n",
      "Variance of s1: 49.32923285444963\n",
      "Mean of s2: 21.02977340456836\n",
      "Variance of s2: 48.1958703393146\n"
     ]
    }
   ],
   "execution_count": 14
  },
  {
   "metadata": {
    "ExecuteTime": {
     "end_time": "2024-10-08T15:03:10.175950Z",
     "start_time": "2024-10-08T15:03:10.156503Z"
    }
   },
   "cell_type": "code",
   "source": [
    "import numpy as np\n",
    "from scipy.stats import truncnorm\n",
    "from six import print_\n",
    "\n",
    "\n",
    "def multiplyGauss(m1, s1, m2, s2):\n",
    "    s = 1 / (1 / s1 + 1 / s2)\n",
    "    m = (m1 / s1 + m2 / s2) * s\n",
    "    return m, s\n",
    "\n",
    "def divideGauss(m1, s1, m2, s2):\n",
    "    m,s =  multiplyGauss(m1, s1, m2, -s2)\n",
    "    return m, s\n",
    "\n",
    "def truncGaussMM(a,b,m0,s0):\n",
    "    a_scaled, b_scaled = (a - m0) / np.sqrt(s0), (b - m0) / np.sqrt(s0)\n",
    "    m = truncnorm.mean(a_scaled,b_scaled, loc=m0, scale=np.sqrt(s0))\n",
    "    s = truncnorm.var(a_scaled, b_scaled, loc=m0, scale=np.sqrt(s0))\n",
    "    return m,s "
   ],
   "outputs": [],
   "execution_count": 50
  },
  {
   "metadata": {
    "ExecuteTime": {
     "end_time": "2024-10-08T15:33:02.513854Z",
     "start_time": "2024-10-08T15:33:02.481958Z"
    }
   },
   "cell_type": "code",
   "source": [
    "m1, s1 =  25, (25/3) ** 2\n",
    "m2, s2 = 25, (25/3) ** 2\n",
    "sv = (25/6) ** 2\n",
    "y0 = 1\n",
    "mu_diff_m = m1 - m2\n",
    "mu_diff_s = s1 + s2 + sv\n",
    "\n",
    "mu3_m = m1\n",
    "mu3_s = s1\n",
    "\n",
    "mu4_m = mu3_m\n",
    "mu4_s = mu3_s\n",
    "\n",
    "mu5_m = mu_diff_m \n",
    "mu5_s = mu_diff_s \n",
    "\n",
    "if y0 == 1:\n",
    "    a,b = 0, np.inf\n",
    "else:\n",
    "    a,b = -np.inf, 0\n",
    "\n",
    "\n",
    "pt_m, pt_s = truncGaussMM(a, b, mu5_m, mu5_s)\n",
    "# Compute the message from t to f_3\n",
    "mu6_m, mu6_s = divideGauss(pt_m, pt_s, mu5_m, mu5_s)\n",
    "# Compute the message from f_3 to s1\n",
    "mu7_m = mu6_m \n",
    "mu7_s = mu6_s \n",
    "# Compute the marginal of x\n",
    "px_m, px_s = multiplyGauss(mu3_m, mu3_s, mu7_m, mu7_s)\n",
    "print(f\"Mean of x: {px_m}\")\n",
    "print(f\"Variance of x: {px_s}\")\n",
    "\n",
    "\n",
    "#compute the message from f_3 to s2\n",
    "mu_8m = mu6_m \n",
    "mu_8s = mu6_s \n",
    "px_m, px_s = multiplyGauss(mu3_m, mu3_s, mu_8m, mu_8s)\n",
    "print(f\"Mean of x: {px_m}\")\n",
    "print(f\"Variance of x: {px_s}\")\n"
   ],
   "outputs": [
    {
     "name": "stdout",
     "output_type": "stream",
     "text": [
      "Mean of x: 20.91401871338585\n",
      "Variance of x: 39.04357954105098\n",
      "Mean of x: 20.91401871338585\n",
      "Variance of x: 39.04357954105098\n"
     ]
    }
   ],
   "execution_count": 88
  },
  {
   "metadata": {},
   "cell_type": "code",
   "outputs": [],
   "execution_count": null,
   "source": ""
  }
 ],
 "metadata": {
  "kernelspec": {
   "display_name": "base",
   "language": "python",
   "name": "python3"
  },
  "language_info": {
   "codemirror_mode": {
    "name": "ipython",
    "version": 3
   },
   "file_extension": ".py",
   "mimetype": "text/x-python",
   "name": "python",
   "nbconvert_exporter": "python",
   "pygments_lexer": "ipython3",
   "version": "3.11.4"
  }
 },
 "nbformat": 4,
 "nbformat_minor": 2
}
