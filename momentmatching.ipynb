{
 "cells": [
  {
   "cell_type": "code",
   "metadata": {
    "ExecuteTime": {
     "end_time": "2024-10-09T12:55:31.329655Z",
     "start_time": "2024-10-09T12:55:31.288953Z"
    }
   },
   "source": [
    "import numpy as np\n",
    "import pandas as pd\n",
    "from scipy.stats import truncnorm, norm\n",
    "import matplotlib.pyplot as plt\n",
    "import seaborn as sns\n",
    "from six import print_, moves\n",
    "\n",
    "\n",
    "# Conditional Outcome Function\n",
    "def conditional_outcome(s1, s2, result, sigma_t):\n",
    "    mean_diff = s1 - s2\n",
    "    std_diff = sigma_t\n",
    "\n",
    "    if result == 1:\n",
    "        a, b = 0, np.inf  \n",
    "    else:\n",
    "        a, b = -np.inf, 0  \n",
    "\n",
    "    a_std = (a - mean_diff) / std_diff\n",
    "    b_std = (b - mean_diff) / std_diff\n",
    "\n",
    "    return a_std, b_std, mean_diff, std_diff\n",
    "\n",
    "def gibbs_sampler_result(mu_s1, mu_s2, sigma_s1, sigma_s2, sigma_t, n_iter, result):\n",
    "    s1_samples = np.zeros(n_iter)\n",
    "    s2_samples = np.zeros(n_iter)\n",
    "    t_samples = np.zeros(n_iter)\n",
    "    y_samples = np.zeros(n_iter)\n",
    "    \n",
    "    s1_current = mu_s1\n",
    "    s2_current = mu_s2\n",
    "\n",
    "    mu_prior = np.array([mu_s1, mu_s2]).reshape((2, 1))\n",
    "    sigma_prior = np.array([[sigma_s1, 0], [0, sigma_s2]])\n",
    "    sigma_prior_inv = np.linalg.inv(sigma_prior)\n",
    "\n",
    "    A = np.array([1, -1]).reshape((1, 2))\n",
    "    A_T = A.T\n",
    "\n",
    "    for i in range(n_iter):\n",
    "        a_std, b_std, mean_diff, std_diff = conditional_outcome(s1_current, s2_current, result, sigma_t)\n",
    "        t_current = truncnorm.rvs(a=a_std, b=b_std, loc=mean_diff, scale=std_diff)\n",
    "        sigma_post = np.linalg.inv(sigma_prior_inv + (A_T @ A) / sigma_t**2)\n",
    "        mu_post = sigma_post @ (sigma_prior_inv @ mu_prior + (A_T * t_current) / sigma_t**2)\n",
    "        s1_current, s2_current = np.random.multivariate_normal(mu_post.flatten(), sigma_post)\n",
    "        s1_samples[i] = s1_current\n",
    "        s2_samples[i] = s2_current\n",
    "        t_samples[i] = t_current\n",
    "        y_samples[i] = result\n",
    "\n",
    "    mean_s1 = np.mean(s1_samples)\n",
    "    var_s1 = np.var(s1_samples, ddof=1)\n",
    "    mean_s2 = np.mean(s2_samples)\n",
    "    var_s2 = np.var(s2_samples, ddof=1)\n",
    "\n",
    "    return mean_s1, var_s1, mean_s2, var_s2\n",
    "\n",
    "def win_probability_player1(mu_s1, mu_s2, sigma_s1, sigma_s2, sigma_t):\n",
    "    mu_diff = mu_s1 - mu_s2\n",
    "    sigma_diff = np.sqrt(sigma_s1 + sigma_s2 + sigma_t**2)\n",
    "    p_y1 = 1 - norm.cdf(0, loc=mu_diff, scale=sigma_diff)\n",
    "    return p_y1\n",
    "\n",
    "\n"
   ],
   "outputs": [],
   "execution_count": 3
  },
  {
   "metadata": {
    "ExecuteTime": {
     "end_time": "2024-10-09T12:55:28.431991Z",
     "start_time": "2024-10-09T12:55:28.399177Z"
    }
   },
   "cell_type": "code",
   "source": [
    "n = 1000\n",
    "mu1, sigma1 = 25, 8.33 ** 2\n",
    "mu2, sigma2 = 25, 8.33 ** 2\n",
    "sigma_t = (25 / 6) \n",
    "result = 1\n",
    "s1_mean, s1_variance, s2_mean, s2_variance = gibbs_sampler_result(mu1, mu2, sigma1, sigma2, sigma_t, n, result)\n",
    "\n",
    "print(f\"Mean of s1: {s1_mean}\")\n",
    "print(f\"Variance of s1: {s1_variance}\")\n",
    "print(f\"Mean of s2: {s2_mean}\")\n",
    "print(f\"Variance of s2: {s2_variance}\")\n"
   ],
   "outputs": [
    {
     "ename": "NameError",
     "evalue": "name 'gibbs_sampler_result' is not defined",
     "output_type": "error",
     "traceback": [
      "\u001B[0;31m---------------------------------------------------------------------------\u001B[0m",
      "\u001B[0;31mNameError\u001B[0m                                 Traceback (most recent call last)",
      "Cell \u001B[0;32mIn[2], line 6\u001B[0m\n\u001B[1;32m      4\u001B[0m sigma_t \u001B[38;5;241m=\u001B[39m (\u001B[38;5;241m25\u001B[39m \u001B[38;5;241m/\u001B[39m \u001B[38;5;241m6\u001B[39m) \n\u001B[1;32m      5\u001B[0m result \u001B[38;5;241m=\u001B[39m \u001B[38;5;241m1\u001B[39m\n\u001B[0;32m----> 6\u001B[0m s1_mean, s1_variance, s2_mean, s2_variance \u001B[38;5;241m=\u001B[39m \u001B[43mgibbs_sampler_result\u001B[49m(mu1, mu2, sigma1, sigma2, sigma_t, n, result)\n\u001B[1;32m      8\u001B[0m \u001B[38;5;28mprint\u001B[39m(\u001B[38;5;124mf\u001B[39m\u001B[38;5;124m\"\u001B[39m\u001B[38;5;124mMean of s1: \u001B[39m\u001B[38;5;132;01m{\u001B[39;00ms1_mean\u001B[38;5;132;01m}\u001B[39;00m\u001B[38;5;124m\"\u001B[39m)\n\u001B[1;32m      9\u001B[0m \u001B[38;5;28mprint\u001B[39m(\u001B[38;5;124mf\u001B[39m\u001B[38;5;124m\"\u001B[39m\u001B[38;5;124mVariance of s1: \u001B[39m\u001B[38;5;132;01m{\u001B[39;00ms1_variance\u001B[38;5;132;01m}\u001B[39;00m\u001B[38;5;124m\"\u001B[39m)\n",
      "\u001B[0;31mNameError\u001B[0m: name 'gibbs_sampler_result' is not defined"
     ]
    }
   ],
   "execution_count": 2
  },
  {
   "metadata": {
    "ExecuteTime": {
     "end_time": "2024-10-09T12:52:27.281197Z",
     "start_time": "2024-10-09T12:52:27.277791Z"
    }
   },
   "cell_type": "code",
   "source": [
    "import numpy as np\n",
    "from scipy.stats import truncnorm\n",
    "from six import print_\n",
    "\n",
    "\n",
    "def multiplyGauss(m1, s1, m2, s2):\n",
    "    s = 1 / (1 / s1 + 1 / s2)\n",
    "    m = (m1 / s1 + m2 / s2) * s\n",
    "    return m, s\n",
    "\n",
    "def divideGauss(m1, s1, m2, s2):\n",
    "    m,s =  multiplyGauss(m1, s1, m2, -s2)\n",
    "    return m, s\n",
    "\n",
    "def truncGaussMM(a,b,m0,s0):\n",
    "    a_scaled, b_scaled = (a - m0) / np.sqrt(s0), (b - m0) / np.sqrt(s0)\n",
    "    m = truncnorm.mean(a_scaled,b_scaled, loc=m0, scale=np.sqrt(s0))\n",
    "    s = truncnorm.var(a_scaled, b_scaled, loc=m0, scale=np.sqrt(s0))\n",
    "    return m,s "
   ],
   "outputs": [],
   "execution_count": 8
  },
  {
   "metadata": {
    "ExecuteTime": {
     "end_time": "2024-10-09T12:52:33.293491Z",
     "start_time": "2024-10-09T12:52:33.282587Z"
    }
   },
   "cell_type": "code",
   "source": [
    "m1, s1 =  25, (25/3) ** 2\n",
    "m2, s2 = 25, (25/3) ** 2\n",
    "sv = (25/6) ** 2\n",
    "y0 = 1\n",
    "mu_diff_m = m1 - m2\n",
    "mu_diff_s = s1 + s2 + sv\n",
    "\n",
    "mu3_m = m1\n",
    "mu3_s = s1\n",
    "\n",
    "mu4_m = mu3_m\n",
    "mu4_s = mu3_s\n",
    "\n",
    "mu5_m = mu_diff_m \n",
    "mu5_s = mu_diff_s \n",
    "\n",
    "if y0 == 1:\n",
    "    a,b = 0, np.inf\n",
    "else:\n",
    "    a,b = -np.inf, 0\n",
    "\n",
    "\n",
    "pt_m, pt_s = truncGaussMM(a, b, mu5_m, mu5_s)\n",
    "# Compute the message from t to f_3\n",
    "mu6_m, mu6_s = divideGauss(pt_m, pt_s, mu5_m, mu5_s)\n",
    "# Compute the message from f_3 to s1\n",
    "mu7_m = mu6_m \n",
    "mu7_s = mu6_s \n",
    "# Compute the marginal of x\n",
    "px_m, px_s = multiplyGauss(mu3_m, mu3_s, mu7_m, mu7_s)\n",
    "print(f\"Mean of x: {px_m}\")\n",
    "print(f\"Variance of x: {px_s}\")\n",
    "\n",
    "\n",
    "#compute the message from f_3 to s2\n",
    "mu_8m = mu6_m \n",
    "mu_8s = mu6_s \n",
    "px_m, px_s = multiplyGauss(mu3_m, mu3_s, mu_8m, mu_8s)\n",
    "print(f\"Mean of x: {px_m}\")\n",
    "print(f\"Variance of x: {px_s}\")\n"
   ],
   "outputs": [
    {
     "name": "stdout",
     "output_type": "stream",
     "text": [
      "Mean of x: 20.91401871338585\n",
      "Variance of x: 39.04357954105098\n",
      "Mean of x: 20.91401871338585\n",
      "Variance of x: 39.04357954105098\n"
     ]
    }
   ],
   "execution_count": 10
  },
  {
   "metadata": {
    "ExecuteTime": {
     "end_time": "2024-10-09T12:52:27.312311Z",
     "start_time": "2024-10-09T12:52:27.310450Z"
    }
   },
   "cell_type": "code",
   "source": "",
   "outputs": [],
   "execution_count": null
  },
  {
   "metadata": {},
   "cell_type": "code",
   "outputs": [],
   "execution_count": null,
   "source": ""
  }
 ],
 "metadata": {
  "kernelspec": {
   "display_name": "base",
   "language": "python",
   "name": "python3"
  },
  "language_info": {
   "codemirror_mode": {
    "name": "ipython",
    "version": 3
   },
   "file_extension": ".py",
   "mimetype": "text/x-python",
   "name": "python",
   "nbconvert_exporter": "python",
   "pygments_lexer": "ipython3",
   "version": "3.11.4"
  }
 },
 "nbformat": 4,
 "nbformat_minor": 2
}
