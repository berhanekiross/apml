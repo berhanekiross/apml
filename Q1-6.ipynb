{
 "cells": [
  {
   "cell_type": "code",
   "metadata": {
    "ExecuteTime": {
     "end_time": "2024-10-10T07:07:41.037119Z",
     "start_time": "2024-10-10T07:07:41.029679Z"
    }
   },
   "source": [
    "import numpy as np\n",
    "import pandas as pd\n",
    "from scipy.stats import truncnorm, norm\n",
    "\n",
    "\n",
    "def conditional_outcome(s1, s2, result, sigma_t):\n",
    "    mean_diff = s1 - s2\n",
    "    std_diff = sigma_t\n",
    "\n",
    "    if result == 1:\n",
    "        a, b = 0, np.inf  \n",
    "    else:\n",
    "        a, b = -np.inf, 0  \n",
    "\n",
    "    a_std = (a - mean_diff) / std_diff\n",
    "    b_std = (b - mean_diff) / std_diff\n",
    "\n",
    "    return a_std, b_std, mean_diff, std_diff\n",
    "\n",
    "def gibbs_sampler_result(mu_s1, mu_s2, sigma_s1, sigma_s2, sigma_t, n_iter, result):\n",
    "    s1_samples = np.zeros(n_iter)\n",
    "    s2_samples = np.zeros(n_iter)\n",
    "    t_samples = np.zeros(n_iter)\n",
    "    y_samples = np.zeros(n_iter)\n",
    "    \n",
    "    s1_current = mu_s1\n",
    "    s2_current = mu_s2\n",
    "\n",
    "    mu_prior = np.array([mu_s1, mu_s2]).reshape((2, 1))\n",
    "    sigma_prior = np.array([[sigma_s1, 0], [0, sigma_s2]])\n",
    "    sigma_prior_inv = np.linalg.inv(sigma_prior)\n",
    "\n",
    "    A = np.array([1, -1]).reshape((1, 2))\n",
    "    A_T = A.T\n",
    "\n",
    "    for i in range(n_iter):\n",
    "        a_std, b_std, mean_diff, std_diff = conditional_outcome(s1_current, s2_current, result, sigma_t)\n",
    "        t_current = truncnorm.rvs(a=a_std, b=b_std, loc=mean_diff, scale=std_diff)\n",
    "        sigma_post = np.linalg.inv(sigma_prior_inv + (A_T @ A) / sigma_t**2)\n",
    "        mu_post = sigma_post @ (sigma_prior_inv @ mu_prior + (A_T * t_current) / sigma_t**2)\n",
    "        s1_current, s2_current = np.random.multivariate_normal(mu_post.flatten(), sigma_post)\n",
    "        s1_samples[i] = s1_current\n",
    "        s2_samples[i] = s2_current\n",
    "        t_samples[i] = t_current\n",
    "        y_samples[i] = result\n",
    "\n",
    "    mean_s1 = np.mean(s1_samples)\n",
    "    var_s1 = np.var(s1_samples, ddof=1)\n",
    "    mean_s2 = np.mean(s2_samples)\n",
    "    var_s2 = np.var(s2_samples, ddof=1)\n",
    "\n",
    "    return mean_s1, var_s1, mean_s2, var_s2\n",
    "\n",
    "def win_probability_player1(mu_s1, mu_s2, sigma_s1, sigma_s2, sigma_t):\n",
    "    mu_diff = mu_s1 - mu_s2\n",
    "    sigma_diff = np.sqrt(sigma_s1 + sigma_s2 + sigma_t**2)\n",
    "    p_y1 = 1 - norm.cdf(0, loc=mu_diff, scale=sigma_diff)\n",
    "    return p_y1\n",
    "\n",
    "\n"
   ],
   "outputs": [],
   "execution_count": 1
  },
  {
   "metadata": {
    "ExecuteTime": {
     "end_time": "2024-10-10T07:07:43.311589Z",
     "start_time": "2024-10-10T07:07:41.079104Z"
    }
   },
   "cell_type": "code",
   "source": [
    "data_file = 'SerieA.csv'\n",
    "df = pd.read_csv(data_file)\n",
    "df_filtered = df[df['score1'] != df['score2']].copy()\n",
    "df_filtered['win'] = df_filtered.apply(lambda row: 1 if row['score1'] > row['score2'] else -1, axis=1)\n",
    "initial_mu = 25\n",
    "initial_sigma = 8.33\n",
    "sigma_t = 25 / 6\n",
    "teams = set(df_filtered['team1']).union(set(df_filtered['team2']))\n",
    "skills = {team: (initial_mu, initial_sigma) for team in teams}\n",
    "n_iter = 100 \n",
    "predictions = []\n",
    "random_predictions = []\n",
    "\n",
    "\n",
    "\n",
    "for index, row in df_filtered.iterrows():\n",
    "    team1 = row['team1']\n",
    "    team2 = row['team2']\n",
    "    result = row['win']\n",
    "\n",
    "    mu_s1, sigma_s1 = skills[team1]\n",
    "    mu_s2, sigma_s2 = skills[team2]\n",
    "\n",
    "    mean_s1, var_s1, mean_s2, var_s2 = gibbs_sampler_result(mu_s1, mu_s2, sigma_s1, sigma_s2, sigma_t, n_iter, result)\n",
    "\n",
    "    skills[team1] = (mean_s1, var_s1)\n",
    "    skills[team2] = (mean_s2, var_s2)\n",
    "    \n",
    "    if index < 272:\n",
    "        p_y1 = win_probability_player1(mu_s1, mu_s2, sigma_s1, sigma_s2, sigma_t)\n",
    "        predictions.append(1 if p_y1 > 0.5 else -1)\n",
    "        random_predictions.append(1 if np.random.rand() > 0.5 else -1)\n",
    "\n",
    "correct = 0\n",
    "correct_random = 0\n",
    "\n",
    "for i in range(len(predictions)):\n",
    "    if predictions[i] == df_filtered.iloc[i]['win']:\n",
    "        correct += 1\n",
    "    if random_predictions[i] == df_filtered.iloc[i]['win']:\n",
    "        correct_random += 1\n",
    "\n",
    "print(f\"Accuracy of the model: {correct / len(predictions)}\")\n",
    "print(f\"Accuracy of the random model: {correct_random / len(predictions)}\")"
   ],
   "outputs": [
    {
     "name": "stdout",
     "output_type": "stream",
     "text": [
      "Accuracy of the model: 0.6597938144329897\n",
      "Accuracy of the random model: 0.4948453608247423\n"
     ]
    }
   ],
   "execution_count": 2
  },
  {
   "metadata": {},
   "cell_type": "markdown",
   "source": ""
  },
  {
   "metadata": {
    "ExecuteTime": {
     "end_time": "2024-10-10T07:07:43.420057Z",
     "start_time": "2024-10-10T07:07:43.416972Z"
    }
   },
   "cell_type": "code",
   "source": [
    "sorted_skills = sorted(skills.items(), key=lambda x: x[1][0], reverse=True)\n",
    "\n",
    "print(\"\\nUpdated Skills:\")\n",
    "for team, (mu, sigma) in sorted_skills:\n",
    "    print(f\"{team}: Mean Skill = {mu:.2f}, Variance = {sigma:.2f}\")\n",
    "\n"
   ],
   "outputs": [
    {
     "name": "stdout",
     "output_type": "stream",
     "text": [
      "\n",
      "Updated Skills:\n",
      "Napoli: Mean Skill = 29.13, Variance = 2.04\n",
      "Juventus: Mean Skill = 29.08, Variance = 1.02\n",
      "Milan: Mean Skill = 28.93, Variance = 0.66\n",
      "Atalanta: Mean Skill = 27.90, Variance = 0.91\n",
      "Inter: Mean Skill = 27.89, Variance = 1.22\n",
      "Torino: Mean Skill = 27.35, Variance = 1.82\n",
      "Roma: Mean Skill = 26.59, Variance = 0.93\n",
      "Lazio: Mean Skill = 26.26, Variance = 1.45\n",
      "Bologna: Mean Skill = 25.64, Variance = 2.55\n",
      "Sampdoria: Mean Skill = 25.08, Variance = 1.19\n",
      "Spal: Mean Skill = 24.59, Variance = 0.79\n",
      "Sassuolo: Mean Skill = 24.48, Variance = 2.20\n",
      "Fiorentina: Mean Skill = 24.26, Variance = 0.71\n",
      "Cagliari: Mean Skill = 24.21, Variance = 0.52\n",
      "Udinese: Mean Skill = 24.16, Variance = 1.92\n",
      "Empoli: Mean Skill = 24.07, Variance = 0.53\n",
      "Parma: Mean Skill = 23.65, Variance = 2.51\n",
      "Genoa: Mean Skill = 23.33, Variance = 1.65\n",
      "Frosinone: Mean Skill = 22.14, Variance = 0.72\n",
      "Chievo: Mean Skill = 20.31, Variance = 1.37\n"
     ]
    }
   ],
   "execution_count": 3
  }
 ],
 "metadata": {
  "kernelspec": {
   "display_name": "base",
   "language": "python",
   "name": "python3"
  },
  "language_info": {
   "codemirror_mode": {
    "name": "ipython",
    "version": 3
   },
   "file_extension": ".py",
   "mimetype": "text/x-python",
   "name": "python",
   "nbconvert_exporter": "python",
   "pygments_lexer": "ipython3",
   "version": "3.11.4"
  }
 },
 "nbformat": 4,
 "nbformat_minor": 2
}
