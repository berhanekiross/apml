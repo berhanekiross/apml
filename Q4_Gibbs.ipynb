{
 "cells": [
  {
   "cell_type": "code",
   "metadata": {
    "ExecuteTime": {
     "end_time": "2024-10-01T13:40:02.002349Z",
     "start_time": "2024-10-01T13:40:01.808477Z"
    }
   },
   "source": [
    "from os import chmod\n",
    "\n",
    "import numpy as np\n",
    "import pandas as pd\n",
    "from exceptiongroup import print_exc\n",
    "from scipy.stats import truncnorm, norm\n",
    "from six import print_\n",
    "\n",
    "\n",
    "# Conditional skills\n",
    "def conditional_skills(mu_s1, mu_s2, sigma_s1, sigma_s2, t, outcome_var):\n",
    "    mean_s = np.array([mu_s1, mu_s2])\n",
    "    cov_s = np.array([[sigma_s1, 0],\n",
    "                      [0, sigma_s2]])  # Covariance matrix with S_12 and S_21\n",
    "    outcome_mean = mu_s1 - mu_s2\n",
    "    outcome_var = sigma_s1 + sigma_s2 + outcome_var # Outcome variance\n",
    "\n",
    "    # Conditional mean update\n",
    "    mean_cond = mean_s + (t - outcome_mean) / outcome_var * np.array([sigma_s1, -sigma_s2])\n",
    "\n",
    "    # Conditional covariance update\n",
    "    cov_cond = cov_s - np.outer([sigma_s1, -sigma_s2], [sigma_s1, -sigma_s2]) / outcome_var\n",
    "  \n",
    "    return mean_cond, cov_cond\n",
    "\n",
    "\n",
    "# Conditional outcome (truncated Gaussian)\n",
    "def conditional_outcome(mu_s1, mu_s2, result, outcome_var): #changed so that it only depends on mu_s1 and mu_s2\n",
    "    mean_diff = mu_s1 - mu_s2\n",
    "    std_diff = outcome_var\n",
    "\n",
    "    # Set truncation limits based on match outcome\n",
    "    if result == 1:\n",
    "        a, b = 0, np.inf  # Truncate for team 1 winning\n",
    "    else:\n",
    "        a, b = -np.inf, 0  # Truncate for team 2 winning\n",
    "\n",
    "    # Create truncated Gaussian distribution\n",
    "    trunc_gauss_dist = truncnorm(a=(a - mean_diff) / std_diff, b=(b - mean_diff) / std_diff, loc=mean_diff, scale=std_diff)\n",
    "    \n",
    "    return a,b\n",
    "\n",
    "\n",
    "\n",
    "# Marginal probability that team 1 wins\n",
    "def marginal_p_y1(mu_s1, mu_s2, sigma_s1, sigma_s2, sigma_t):\n",
    "    mu_diff = mu_s1 - mu_s2\n",
    "    sigma_diff = np.sqrt(sigma_s1 + sigma_s2 + sigma_t)\n",
    "    p_y1 = 1 - norm.cdf(0, loc=mu_diff, scale=sigma_diff)\n",
    "    return p_y1\n",
    "\n",
    "#print(\"marginal_y =\", marginal_p_y1(1, -1, 1, 4,5)) #Probability p(t > 0), e.g player 1 wins. Where t is the Gaussian random variable obtained by marginalizing out s1 and s2 from p(t, s1, s2).\n",
    "\n",
    "\n",
    "#Gibbs sampler\n",
    "\n",
    "def gibbs_sampler(mu_s1, mu_s2, sigma_s1, sigma_s2, sigma_t, n_iter):\n",
    "    s1_samples = np.zeros(n_iter)\n",
    "    s2_samples = np.zeros(n_iter)\n",
    "    t_samples = np.zeros(n_iter)\n",
    "    y_samples = np.zeros(n_iter)\n",
    "    s1, s2 = mu_s1, mu_s2\n",
    "    \n",
    "    #initializing the truncation limits\n",
    "    a, b = conditional_outcome(s1, s2, 1, sigma_t)\n",
    "    t = truncnorm.rvs(a, b, loc=s1 - s2, scale= sigma_t)\n",
    "    \n",
    "    for i in range(n_iter):\n",
    "        y = 1 \n",
    "        mean_cond, cov_cond = conditional_skills(mu_s1, mu_s2,sigma_s1, sigma_s2, t, sigma_t) # P(s1, s2 | t)\n",
    "        s1, s2 = np.random.multivariate_normal(mean_cond, cov_cond)\n",
    "        s1_samples[i] = s1\n",
    "        s2_samples[i] = s2\n",
    "        a, b = conditional_outcome(s1, s2, y, sigma_t)\n",
    "        t = truncnorm.rvs(a, b, loc=s1 - s2, scale= sigma_t) #P(t | s1, s2 ,y)\n",
    "        t_samples[i] = t\n",
    "        y_samples[i] = y\n",
    "\n",
    "    return s1_samples, s2_samples, t_samples\n",
    "\n",
    "n_iter = 100 \n",
    "mu_s1 = 25 # Initial mean for player 1\n",
    "mu_s2 = 25 # Initial mean for player 2\n",
    "sigma_s1 = 8.33 # Variance for player 1\n",
    "sigma_s2 = 8.33 # Variance for player 2\n",
    "sigma_t = 25/6 # Outcome variance\n",
    "\n",
    "s1_samples, s2_samples, t_samples = gibbs_sampler(mu_s1, mu_s2, sigma_s1, sigma_s2, sigma_t, n_iter)\n",
    "\n",
    "# Step 1: Calculate the means\n",
    "mean_s1 = np.mean(s1_samples)\n",
    "mean_s2 = np.mean(s2_samples)\n",
    "mean_t = np.mean(t_samples)\n",
    "\n",
    "# Step 2: Calculate the variances\n",
    "var_s1 = np.var(s1_samples, ddof=1)\n",
    "var_s2 = np.var(s2_samples, ddof=1)\n",
    "var_t = np.var(t_samples, ddof=1)\n",
    "\n",
    "    \n",
    "        \n",
    "            "
   ],
   "outputs": [],
   "execution_count": 43
  },
  {
   "metadata": {},
   "cell_type": "code",
   "source": [
    "# Plot the samples\n",
    "import matplotlib.pyplot as plt\n",
    "\n",
    "\n",
    "# Step 3: Plot the histograms with fitted Gaussian curves\n",
    "x_s1 = np.linspace(min(s1_samples), max(s1_samples), 1000)\n",
    "x_s2 = np.linspace(min(s2_samples), max(s2_samples), 1000)\n",
    "x_t = np.linspace(min(t_samples), max(t_samples), 1000)\n",
    "\n",
    "# Plot s1 samples\n",
    "plt.figure(figsize=(12, 8))\n",
    "plt.subplot(3, 1, 1)\n",
    "plt.hist(s1_samples, bins=30, density=True, alpha=0.6, color='g', label=\"s1 samples\")\n",
    "plt.plot(x_s1, norm.pdf(x_s1, mean_s1, np.sqrt(var_s1)), 'r-', lw=2, label=\"Gaussian fit\")\n",
    "plt.title('Distribution of s1 (Player 1 Skill)')\n",
    "plt.xlabel('s1')\n",
    "plt.ylabel('Density')\n",
    "plt.legend()\n",
    "\n",
    "# Plot s2 samples\n",
    "plt.subplot(3, 1, 2)\n",
    "plt.hist(s2_samples, bins=30, density=True, alpha=0.6, color='b', label=\"s2 samples\")\n",
    "plt.plot(x_s2, norm.pdf(x_s2, mean_s2, np.sqrt(var_s2)), 'r-', lw=2, label=\"Gaussian fit\")\n",
    "plt.title('Distribution of s2 (Player 2 Skill)')\n",
    "plt.xlabel('s2')\n",
    "plt.ylabel('Density')\n",
    "plt.legend()\n",
    "\n",
    "# Plot t samples\n",
    "plt.subplot(3, 1, 3)\n",
    "plt.hist(t_samples, bins=30, density=True, alpha=0.6, color='purple', label=\"t samples\")\n",
    "plt.plot(x_t, norm.pdf(x_t, mean_t, np.sqrt(var_t)), 'r-', lw=2, label=\"Gaussian fit\")\n",
    "plt.title('Distribution of t (Outcome)')\n",
    "plt.xlabel('t')\n",
    "plt.ylabel('Density')\n",
    "plt.legend()\n",
    "\n",
    "plt.tight_layout()\n",
    "plt.show()\n",
    "\n",
    "\n",
    "\n",
    "plt.figure(figsize=(12, 8))\n",
    "plt.subplot(3, 1, 1)\n",
    "plt.plot(s1_samples, color='g', label=\"s1 samples\")\n",
    "plt.axhline(y=mu_s1, color='r', linestyle='--', label=\"True s1\")\n",
    "plt.title('Player 1 Skill (s1)')\n",
    "plt.xlabel('Iteration')\n",
    "plt.ylabel('s1')\n",
    "plt.legend()\n",
    "\n",
    "\n",
    "plt.subplot(3, 1, 2)\n",
    "plt.plot(s2_samples, color='b', label=\"s2 samples\")\n",
    "plt.axhline(y=mu_s2, color='r', linestyle='--', label=\"True s2\")\n",
    "plt.title('Player 2 Skill (s2)')\n",
    "plt.xlabel('Iteration')\n",
    "plt.ylabel('s2')\n",
    "plt.legend()\n",
    "\n",
    "plt.subplot(3, 1, 3)\n",
    "plt.plot(t_samples, color='purple', label=\"t samples\")\n",
    "plt.axhline(y=mu_s1 - mu_s2, color='r', linestyle='--', label=\"True t\")\n",
    "plt.title('Outcome (t)')\n",
    "plt.xlabel('Iteration')\n",
    "plt.ylabel('t')\n",
    "plt.legend()\n",
    "\n",
    "plt.tight_layout()\n",
    "\n",
    "plt.show()"
   ],
   "outputs": [],
   "execution_count": null
  },
  {
   "metadata": {},
   "cell_type": "code",
   "outputs": [],
   "execution_count": null,
   "source": [
    "def gibbs_sampler_result(mu_s1, mu_s2, sigma_s1, sigma_s2, sigma_t, n_iter, result):\n",
    "    s1_samples = np.zeros(n_iter)\n",
    "    s2_samples = np.zeros(n_iter)\n",
    "    t_samples = np.zeros(n_iter)\n",
    "    y_samples = np.zeros(n_iter)\n",
    "    s1, s2 = mu_s1, mu_s2\n",
    "\n",
    "    #initializing the truncation limits\n",
    "    a, b = conditional_outcome(s1, s2, 1, sigma_t)\n",
    "    t = truncnorm.rvs(a, b, loc=s1 - s2, scale= sigma_t)\n",
    "\n",
    "    for i in range(n_iter):\n",
    "        y = result \n",
    "        mean_cond, cov_cond = conditional_skills(mu_s1, mu_s2,sigma_s1, sigma_s2, t, sigma_t) # P(s1, s2 | t)\n",
    "        s1, s2 = np.random.multivariate_normal(mean_cond, cov_cond)\n",
    "        s1_samples[i] = s1\n",
    "        s2_samples[i] = s2\n",
    "        a, b = conditional_outcome(s1, s2, y, sigma_t)\n",
    "        t = truncnorm.rvs(a, b, loc=s1 - s2, scale= sigma_t) #P(t | s1, s2 ,y)\n",
    "        t_samples[i] = t\n",
    "        y_samples[i] = y\n",
    "\n",
    "    return s1_samples, s2_samples, t_samples"
   ]
  },
  {
   "metadata": {
    "ExecuteTime": {
     "end_time": "2024-10-01T13:29:51.306832Z",
     "start_time": "2024-10-01T13:29:51.291441Z"
    }
   },
   "cell_type": "code",
   "source": [
    "import pandas as pd\n",
    "\n",
    "# Load the CSV data into a pandas DataFrame\n",
    "data = 'SerieA.csv'\n",
    "df = pd.read_csv(data)\n",
    "\n",
    "# Filter out matches where the score is a draw\n",
    "df_filtered = df[df['score1'] != df['score2']].copy()  # Use .copy() to avoid the warning\n",
    "\n",
    "# Create a new 'win' column: 1 if Team 1 won, -1 if Team 1 lost\n",
    "df_filtered.loc[:, 'win'] = df_filtered.apply(lambda row: 1 if row['score1'] > row['score2'] else -1, axis=1)\n",
    "\n",
    "# Display the filtered DataFrame with the 'win' column\n",
    "\n"
   ],
   "outputs": [],
   "execution_count": 33
  },
  {
   "metadata": {
    "ExecuteTime": {
     "end_time": "2024-10-01T13:29:51.334803Z",
     "start_time": "2024-10-01T13:29:51.329195Z"
    }
   },
   "cell_type": "code",
   "source": [
    "\n",
    "print(df_filtered)\n"
   ],
   "outputs": [
    {
     "name": "stdout",
     "output_type": "stream",
     "text": [
      "     yyyy-mm-dd  HH:MM     team1     team2  score1  score2  win\n",
      "0    2018-08-18  18:00    Chievo  Juventus       2       3   -1\n",
      "1    2018-08-18  20:30     Lazio    Napoli       1       2   -1\n",
      "2    2018-08-19  18:00    Torino      Roma       0       1   -1\n",
      "3    2018-08-19  20:30  Sassuolo     Inter       1       0    1\n",
      "5    2018-08-19  20:30    Empoli  Cagliari       2       0    1\n",
      "..          ...    ...       ...       ...     ...     ...  ...\n",
      "374  2019-05-26  20:30      Spal     Milan       2       3   -1\n",
      "375  2019-05-26  20:30      Roma     Parma       2       1    1\n",
      "376  2019-05-26  20:30     Inter    Empoli       2       1    1\n",
      "378  2019-05-26  20:30  Cagliari   Udinese       1       2   -1\n",
      "379  2019-05-26  20:30  Atalanta  Sassuolo       3       1    1\n",
      "\n",
      "[272 rows x 7 columns]\n"
     ]
    }
   ],
   "execution_count": 34
  },
  {
   "metadata": {
    "ExecuteTime": {
     "end_time": "2024-10-01T13:29:51.365800Z",
     "start_time": "2024-10-01T13:29:51.359266Z"
    }
   },
   "cell_type": "code",
   "source": [
    "#Initialize skills for every team\n",
    "skills = {}\n",
    "for team in df_filtered['team1'].unique():\n",
    "    skills[team] = (25, 8.33)\n",
    "for team in df_filtered['team2'].unique():\n",
    "    skills[team] = (25, 8.33) "
   ],
   "outputs": [],
   "execution_count": 35
  },
  {
   "metadata": {
    "ExecuteTime": {
     "end_time": "2024-10-01T13:29:51.387739Z",
     "start_time": "2024-10-01T13:29:51.384964Z"
    }
   },
   "cell_type": "code",
   "source": "print(skills)",
   "outputs": [
    {
     "name": "stdout",
     "output_type": "stream",
     "text": [
      "{'Chievo': (25, 8.33), 'Lazio': (25, 8.33), 'Torino': (25, 8.33), 'Sassuolo': (25, 8.33), 'Empoli': (25, 8.33), 'Bologna': (25, 8.33), 'Atalanta': (25, 8.33), 'Juventus': (25, 8.33), 'Napoli': (25, 8.33), 'Spal': (25, 8.33), 'Udinese': (25, 8.33), 'Genoa': (25, 8.33), 'Fiorentina': (25, 8.33), 'Milan': (25, 8.33), 'Parma': (25, 8.33), 'Sampdoria': (25, 8.33), 'Inter': (25, 8.33), 'Frosinone': (25, 8.33), 'Roma': (25, 8.33), 'Cagliari': (25, 8.33)}\n"
     ]
    }
   ],
   "execution_count": 36
  },
  {
   "metadata": {
    "ExecuteTime": {
     "end_time": "2024-10-01T13:30:07.424508Z",
     "start_time": "2024-10-01T13:29:51.406545Z"
    }
   },
   "cell_type": "code",
   "source": [
    "#run the Gibbs sampler for every match\n",
    "n_iter = 100 \n",
    "\n",
    "for index, row in df_filtered.iterrows():\n",
    "    team1 = row['team1']\n",
    "    team2 = row['team2']\n",
    "    result = row['win']\n",
    "    mu_s1, sigma_s1 = skills[team1]\n",
    "    mu_s2, sigma_s2 = skills[team2]\n",
    "    s1_samples, s2_samples, t_samples = gibbs_sampler(mu_s1, mu_s2, sigma_s1, sigma_s2, sigma_t, n_iter)\n",
    "    skills[team1] = (np.mean(s1_samples), np.var(s1_samples, ddof=1))\n",
    "    skills[team2] = (np.mean(s2_samples), np.var(s2_samples, ddof=1))\n",
    "    \n",
    "    \n"
   ],
   "outputs": [],
   "execution_count": 37
  },
  {
   "metadata": {
    "ExecuteTime": {
     "end_time": "2024-10-01T13:30:07.447232Z",
     "start_time": "2024-10-01T13:30:07.443451Z"
    }
   },
   "cell_type": "code",
   "source": [
    "# Sorting the dictionary by the first value in the tuple (in ascending order)\n",
    "sorted_data = sorted(skills.items(), key=lambda x: x[1][0])\n",
    "\n",
    "# Print the sorted result\n",
    "for team, values in sorted_data:\n",
    "    print(f\"{team}: {values}\")"
   ],
   "outputs": [
    {
     "name": "stdout",
     "output_type": "stream",
     "text": [
      "Fiorentina: (np.float64(-532.1893558504424), np.float64(5721.5331575532855))\n",
      "Genoa: (np.float64(-368.1623882600888), np.float64(8773.9984427189))\n",
      "Sassuolo: (np.float64(-318.5058257897988), np.float64(7034.6461461605695))\n",
      "Frosinone: (np.float64(-285.2206080011059), np.float64(4256.549722698444))\n",
      "Juventus: (np.float64(-198.29122946648323), np.float64(3606.4252590950273))\n",
      "Inter: (np.float64(-98.38513115461657), np.float64(5963.68481646913))\n",
      "Parma: (np.float64(-87.00157812312402), np.float64(3599.2865146189993))\n",
      "Napoli: (np.float64(-86.08298372363988), np.float64(6751.319664061535))\n",
      "Lazio: (np.float64(-46.739664986247625), np.float64(3641.4304128598205))\n",
      "Spal: (np.float64(-10.956857734629727), np.float64(26.940326187135987))\n",
      "Empoli: (np.float64(55.70066260377811), np.float64(12.700080576674408))\n",
      "Atalanta: (np.float64(70.76469176654301), np.float64(446.11740201713855))\n",
      "Milan: (np.float64(102.4433565453656), np.float64(8307.272841770502))\n",
      "Chievo: (np.float64(139.20804344934314), np.float64(7341.860337681279))\n",
      "Udinese: (np.float64(140.83251471678182), np.float64(6075.849874116693))\n",
      "Bologna: (np.float64(275.25662211773425), np.float64(4833.208428438794))\n",
      "Cagliari: (np.float64(283.7502150205339), np.float64(3796.4030345504857))\n",
      "Roma: (np.float64(427.8694279145189), np.float64(6316.817974529252))\n",
      "Sampdoria: (np.float64(552.6530421581666), np.float64(6469.07293494405))\n",
      "Torino: (np.float64(1066.46769587694), np.float64(5512.232264408245))\n"
     ]
    }
   ],
   "execution_count": 38
  },
  {
   "metadata": {
    "ExecuteTime": {
     "end_time": "2024-10-01T13:30:07.480710Z",
     "start_time": "2024-10-01T13:30:07.470139Z"
    }
   },
   "cell_type": "code",
   "source": [
    "# Load the CSV data into a pandas DataFrame\n",
    "data = 'SerieA.csv'\n",
    "df_random = pd.read_csv(data)\n",
    "\n",
    "# Shuffle the DataFrame\n",
    "df_shuffled = df_random.sample(frac=1).reset_index(drop=True)\n",
    "\n",
    "# Display the shuffled DataFrame"
   ],
   "outputs": [],
   "execution_count": 39
  },
  {
   "metadata": {
    "ExecuteTime": {
     "end_time": "2024-10-01T13:30:07.512422Z",
     "start_time": "2024-10-01T13:30:07.506946Z"
    }
   },
   "cell_type": "code",
   "source": "print(df_shuffled)",
   "outputs": [
    {
     "name": "stdout",
     "output_type": "stream",
     "text": [
      "     yyyy-mm-dd  HH:MM      team1       team2  score1  score2\n",
      "0    2018-12-26  15:00    Bologna       Lazio       0       2\n",
      "1    2019-02-02  15:00     Empoli      Chievo       2       2\n",
      "2    2019-01-27  15:00   Atalanta        Roma       3       3\n",
      "3    2019-02-16  20:30   Atalanta       Milan       1       3\n",
      "4    2018-12-22  15:00     Napoli        Spal       1       0\n",
      "..          ...    ...        ...         ...     ...     ...\n",
      "375  2019-01-27  12:30     Chievo  Fiorentina       3       4\n",
      "376  2019-02-24  12:30  Sampdoria    Cagliari       1       0\n",
      "377  2019-02-17  12:30       Spal  Fiorentina       1       4\n",
      "378  2018-10-21  15:00      Parma       Lazio       0       2\n",
      "379  2019-03-17  20:30      Milan       Inter       2       3\n",
      "\n",
      "[380 rows x 6 columns]\n"
     ]
    }
   ],
   "execution_count": 40
  },
  {
   "metadata": {
    "ExecuteTime": {
     "end_time": "2024-10-01T13:30:07.537523Z",
     "start_time": "2024-10-01T13:30:07.535288Z"
    }
   },
   "cell_type": "code",
   "source": "",
   "outputs": [],
   "execution_count": null
  },
  {
   "metadata": {
    "ExecuteTime": {
     "end_time": "2024-10-01T13:30:07.561338Z",
     "start_time": "2024-10-01T13:30:07.559289Z"
    }
   },
   "cell_type": "code",
   "source": "",
   "outputs": [],
   "execution_count": null
  }
 ],
 "metadata": {
  "kernelspec": {
   "display_name": "Python 3",
   "language": "python",
   "name": "python3"
  },
  "language_info": {
   "codemirror_mode": {
    "name": "ipython",
    "version": 3
   },
   "file_extension": ".py",
   "mimetype": "text/x-python",
   "name": "python",
   "nbconvert_exporter": "python",
   "pygments_lexer": "ipython3",
   "version": "3.12.5"
  }
 },
 "nbformat": 4,
 "nbformat_minor": 2
}
