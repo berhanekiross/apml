{
 "cells": [
  {
   "cell_type": "code",
   "metadata": {
    "ExecuteTime": {
     "end_time": "2024-10-01T13:40:02.002349Z",
     "start_time": "2024-10-01T13:40:01.808477Z"
    }
   },
   "source": [
    "from os import chmod\n",
    "\n",
    "import numpy as np\n",
    "import pandas as pd\n",
    "from exceptiongroup import print_exc\n",
    "from scipy.stats import truncnorm, norm\n",
    "from six import print_\n",
    "\n",
    "\n",
    "# Conditional skills\n",
    "def conditional_skills(mu_s1, mu_s2, sigma_s1, sigma_s2, t, outcome_var):\n",
    "    mean_s = np.array([mu_s1, mu_s2])\n",
    "    cov_s = np.array([[sigma_s1, 0],\n",
    "                      [0, sigma_s2]])  # Covariance matrix with S_12 and S_21\n",
    "    outcome_mean = mu_s1 - mu_s2\n",
    "    outcome_var = sigma_s1 + sigma_s2 + outcome_var # Outcome variance\n",
    "\n",
    "    # Conditional mean update\n",
    "    mean_cond = mean_s + (t - outcome_mean) / outcome_var * np.array([sigma_s1, -sigma_s2])\n",
    "\n",
    "    # Conditional covariance update\n",
    "    cov_cond = cov_s - np.outer([sigma_s1, -sigma_s2], [sigma_s1, -sigma_s2]) / outcome_var\n",
    "  \n",
    "    return mean_cond, cov_cond\n",
    "\n",
    "\n",
    "# Conditional outcome (truncated Gaussian)\n",
    "def conditional_outcome(mu_s1, mu_s2, result, outcome_var): #changed so that it only depends on mu_s1 and mu_s2\n",
    "    mean_diff = mu_s1 - mu_s2\n",
    "    std_diff = outcome_var\n",
    "\n",
    "    # Set truncation limits based on match outcome\n",
    "    if result == 1:\n",
    "        a, b = 0, np.inf  # Truncate for team 1 winning\n",
    "    else:\n",
    "        a, b = -np.inf, 0  # Truncate for team 2 winning\n",
    "\n",
    "    # Create truncated Gaussian distribution\n",
    "    trunc_gauss_dist = truncnorm(a=(a - mean_diff) / std_diff, b=(b - mean_diff) / std_diff, loc=mean_diff, scale=std_diff)\n",
    "    \n",
    "    return a,b\n",
    "\n",
    "\n",
    "\n",
    "# Marginal probability that team 1 wins\n",
    "def marginal_p_y1(mu_s1, mu_s2, sigma_s1, sigma_s2, sigma_t):\n",
    "    mu_diff = mu_s1 - mu_s2\n",
    "    sigma_diff = np.sqrt(sigma_s1 + sigma_s2 + sigma_t)\n",
    "    p_y1 = 1 - norm.cdf(0, loc=mu_diff, scale=sigma_diff)\n",
    "    return p_y1\n",
    "\n",
    "#print(\"marginal_y =\", marginal_p_y1(1, -1, 1, 4,5)) #Probability p(t > 0), e.g player 1 wins. Where t is the Gaussian random variable obtained by marginalizing out s1 and s2 from p(t, s1, s2).\n",
    "\n",
    "\n",
    "#Gibbs sampler\n",
    "\n",
    "def gibbs_sampler(mu_s1, mu_s2, sigma_s1, sigma_s2, sigma_t, n_iter):\n",
    "    s1_samples = np.zeros(n_iter)\n",
    "    s2_samples = np.zeros(n_iter)\n",
    "    t_samples = np.zeros(n_iter)\n",
    "    y_samples = np.zeros(n_iter)\n",
    "    s1, s2 = mu_s1, mu_s2\n",
    "    \n",
    "    #initializing the truncation limits\n",
    "    a, b = conditional_outcome(s1, s2, 1, sigma_t)\n",
    "    t = truncnorm.rvs(a, b, loc=s1 - s2, scale= sigma_t)\n",
    "    \n",
    "    for i in range(n_iter):\n",
    "        y = 1 \n",
    "        mean_cond, cov_cond = conditional_skills(mu_s1, mu_s2,sigma_s1, sigma_s2, t, sigma_t) # P(s1, s2 | t)\n",
    "        s1, s2 = np.random.multivariate_normal(mean_cond, cov_cond)\n",
    "        s1_samples[i] = s1\n",
    "        s2_samples[i] = s2\n",
    "        a, b = conditional_outcome(s1, s2, y, sigma_t)\n",
    "        t = truncnorm.rvs(a, b, loc=s1 - s2, scale= sigma_t) #P(t | s1, s2 ,y)\n",
    "        t_samples[i] = t\n",
    "        y_samples[i] = y\n",
    "\n",
    "    return s1_samples, s2_samples, t_samples\n",
    "\n",
    "n_iter = 100 \n",
    "mu_s1 = 25 # Initial mean for player 1\n",
    "mu_s2 = 25 # Initial mean for player 2\n",
    "sigma_s1 = 8.33 # Variance for player 1\n",
    "sigma_s2 = 8.33 # Variance for player 2\n",
    "sigma_t = 25/6 # Outcome variance\n",
    "\n",
    "s1_samples, s2_samples, t_samples = gibbs_sampler(mu_s1, mu_s2, sigma_s1, sigma_s2, sigma_t, n_iter)\n",
    "\n",
    "# Step 1: Calculate the means\n",
    "mean_s1 = np.mean(s1_samples)\n",
    "mean_s2 = np.mean(s2_samples)\n",
    "mean_t = np.mean(t_samples)\n",
    "\n",
    "# Step 2: Calculate the variances\n",
    "var_s1 = np.var(s1_samples, ddof=1)\n",
    "var_s2 = np.var(s2_samples, ddof=1)\n",
    "var_t = np.var(t_samples, ddof=1)\n",
    "\n",
    "    \n",
    "        \n",
    "            "
   ],
   "outputs": [],
   "execution_count": 43
  },
  {
   "metadata": {},
   "cell_type": "code",
   "source": [
    "# Plot the samples\n",
    "import matplotlib.pyplot as plt\n",
    "\n",
    "\n",
    "# Step 3: Plot the histograms with fitted Gaussian curves\n",
    "x_s1 = np.linspace(min(s1_samples), max(s1_samples), 1000)\n",
    "x_s2 = np.linspace(min(s2_samples), max(s2_samples), 1000)\n",
    "x_t = np.linspace(min(t_samples), max(t_samples), 1000)\n",
    "\n",
    "# Plot s1 samples\n",
    "plt.figure(figsize=(12, 8))\n",
    "plt.subplot(3, 1, 1)\n",
    "plt.hist(s1_samples, bins=30, density=True, alpha=0.6, color='g', label=\"s1 samples\")\n",
    "plt.plot(x_s1, norm.pdf(x_s1, mean_s1, np.sqrt(var_s1)), 'r-', lw=2, label=\"Gaussian fit\")\n",
    "plt.title('Distribution of s1 (Player 1 Skill)')\n",
    "plt.xlabel('s1')\n",
    "plt.ylabel('Density')\n",
    "plt.legend()\n",
    "\n",
    "# Plot s2 samples\n",
    "plt.subplot(3, 1, 2)\n",
    "plt.hist(s2_samples, bins=30, density=True, alpha=0.6, color='b', label=\"s2 samples\")\n",
    "plt.plot(x_s2, norm.pdf(x_s2, mean_s2, np.sqrt(var_s2)), 'r-', lw=2, label=\"Gaussian fit\")\n",
    "plt.title('Distribution of s2 (Player 2 Skill)')\n",
    "plt.xlabel('s2')\n",
    "plt.ylabel('Density')\n",
    "plt.legend()\n",
    "\n",
    "# Plot t samples\n",
    "plt.subplot(3, 1, 3)\n",
    "plt.hist(t_samples, bins=30, density=True, alpha=0.6, color='purple', label=\"t samples\")\n",
    "plt.plot(x_t, norm.pdf(x_t, mean_t, np.sqrt(var_t)), 'r-', lw=2, label=\"Gaussian fit\")\n",
    "plt.title('Distribution of t (Outcome)')\n",
    "plt.xlabel('t')\n",
    "plt.ylabel('Density')\n",
    "plt.legend()\n",
    "\n",
    "plt.tight_layout()\n",
    "plt.show()\n",
    "\n",
    "\n",
    "\n",
    "plt.figure(figsize=(12, 8))\n",
    "plt.subplot(3, 1, 1)\n",
    "plt.plot(s1_samples, color='g', label=\"s1 samples\")\n",
    "plt.axhline(y=mu_s1, color='r', linestyle='--', label=\"True s1\")\n",
    "plt.title('Player 1 Skill (s1)')\n",
    "plt.xlabel('Iteration')\n",
    "plt.ylabel('s1')\n",
    "plt.legend()\n",
    "\n",
    "\n",
    "plt.subplot(3, 1, 2)\n",
    "plt.plot(s2_samples, color='b', label=\"s2 samples\")\n",
    "plt.axhline(y=mu_s2, color='r', linestyle='--', label=\"True s2\")\n",
    "plt.title('Player 2 Skill (s2)')\n",
    "plt.xlabel('Iteration')\n",
    "plt.ylabel('s2')\n",
    "plt.legend()\n",
    "\n",
    "plt.subplot(3, 1, 3)\n",
    "plt.plot(t_samples, color='purple', label=\"t samples\")\n",
    "plt.axhline(y=mu_s1 - mu_s2, color='r', linestyle='--', label=\"True t\")\n",
    "plt.title('Outcome (t)')\n",
    "plt.xlabel('Iteration')\n",
    "plt.ylabel('t')\n",
    "plt.legend()\n",
    "\n",
    "plt.tight_layout()\n",
    "\n",
    "plt.show()"
   ],
   "outputs": [],
   "execution_count": null
  },
  {
   "metadata": {
    "ExecuteTime": {
     "end_time": "2024-10-01T13:52:39.109605Z",
     "start_time": "2024-10-01T13:52:39.096570Z"
    }
   },
   "cell_type": "code",
   "source": [
    "def gibbs_sampler_result(mu_s1, mu_s2, sigma_s1, sigma_s2, sigma_t, n_iter, result):\n",
    "    s1_samples = np.zeros(n_iter)\n",
    "    s2_samples = np.zeros(n_iter)\n",
    "    t_samples = np.zeros(n_iter)\n",
    "    y_samples = np.zeros(n_iter)\n",
    "    s1, s2 = mu_s1, mu_s2\n",
    "\n",
    "    #initializing the truncation limits\n",
    "    a, b = conditional_outcome(s1, s2, 1, sigma_t)\n",
    "    t = truncnorm.rvs(a, b, loc=s1 - s2, scale= sigma_t)\n",
    "\n",
    "    for i in range(n_iter):\n",
    "        y = result \n",
    "        mean_cond, cov_cond = conditional_skills(mu_s1, mu_s2,sigma_s1, sigma_s2, t, sigma_t) # P(s1, s2 | t)\n",
    "        s1, s2 = np.random.multivariate_normal(mean_cond, cov_cond)\n",
    "        s1_samples[i] = s1\n",
    "        s2_samples[i] = s2\n",
    "        a, b = conditional_outcome(s1, s2, y, sigma_t)\n",
    "        t = truncnorm.rvs(a, b, loc=s1 - s2, scale= sigma_t) #P(t | s1, s2 ,y)\n",
    "        t_samples[i] = t\n",
    "        y_samples[i] = y\n",
    "\n",
    "    return s1_samples, s2_samples, t_samples"
   ],
   "outputs": [],
   "execution_count": 47
  },
  {
   "metadata": {
    "ExecuteTime": {
     "end_time": "2024-10-01T13:52:40.103306Z",
     "start_time": "2024-10-01T13:52:40.011182Z"
    }
   },
   "cell_type": "code",
   "source": [
    "import pandas as pd\n",
    "\n",
    "# Load the CSV data into a pandas DataFrame\n",
    "data = 'SerieA.csv'\n",
    "df = pd.read_csv(data)\n",
    "\n",
    "# Filter out matches where the score is a draw\n",
    "df_filtered = df[df['score1'] != df['score2']].copy()  # Use .copy() to avoid the warning\n",
    "\n",
    "# Create a new 'win' column: 1 if Team 1 won, -1 if Team 1 lost\n",
    "df_filtered.loc[:, 'win'] = df_filtered.apply(lambda row: 1 if row['score1'] > row['score2'] else -1, axis=1)\n",
    "\n",
    "# Display the filtered DataFrame with the 'win' column\n",
    "\n"
   ],
   "outputs": [],
   "execution_count": 48
  },
  {
   "metadata": {
    "ExecuteTime": {
     "end_time": "2024-10-01T13:54:09.676870Z",
     "start_time": "2024-10-01T13:54:09.629946Z"
    }
   },
   "cell_type": "code",
   "source": [
    "\n",
    "print(df_filtered)\n"
   ],
   "outputs": [
    {
     "name": "stdout",
     "output_type": "stream",
     "text": [
      "     yyyy-mm-dd  HH:MM     team1     team2  score1  score2  win\n",
      "0    2018-08-18  18:00    Chievo  Juventus       2       3   -1\n",
      "1    2018-08-18  20:30     Lazio    Napoli       1       2   -1\n",
      "2    2018-08-19  18:00    Torino      Roma       0       1   -1\n",
      "3    2018-08-19  20:30  Sassuolo     Inter       1       0    1\n",
      "5    2018-08-19  20:30    Empoli  Cagliari       2       0    1\n",
      "..          ...    ...       ...       ...     ...     ...  ...\n",
      "374  2019-05-26  20:30      Spal     Milan       2       3   -1\n",
      "375  2019-05-26  20:30      Roma     Parma       2       1    1\n",
      "376  2019-05-26  20:30     Inter    Empoli       2       1    1\n",
      "378  2019-05-26  20:30  Cagliari   Udinese       1       2   -1\n",
      "379  2019-05-26  20:30  Atalanta  Sassuolo       3       1    1\n",
      "\n",
      "[272 rows x 7 columns]\n"
     ]
    }
   ],
   "execution_count": 54
  },
  {
   "metadata": {
    "ExecuteTime": {
     "end_time": "2024-10-01T13:54:11.155393Z",
     "start_time": "2024-10-01T13:54:11.132332Z"
    }
   },
   "cell_type": "code",
   "source": [
    "#Initialize skills for every team\n",
    "skills = {}\n",
    "for team in df_filtered['team1'].unique():\n",
    "    skills[team] = (25, 8.33)\n",
    "for team in df_filtered['team2'].unique():\n",
    "    skills[team] = (25, 8.33) "
   ],
   "outputs": [],
   "execution_count": 55
  },
  {
   "metadata": {
    "ExecuteTime": {
     "end_time": "2024-10-01T13:54:12.762399Z",
     "start_time": "2024-10-01T13:54:12.756136Z"
    }
   },
   "cell_type": "code",
   "source": "print(skills)",
   "outputs": [
    {
     "name": "stdout",
     "output_type": "stream",
     "text": [
      "{'Chievo': (25, 8.33), 'Lazio': (25, 8.33), 'Torino': (25, 8.33), 'Sassuolo': (25, 8.33), 'Empoli': (25, 8.33), 'Bologna': (25, 8.33), 'Atalanta': (25, 8.33), 'Juventus': (25, 8.33), 'Napoli': (25, 8.33), 'Spal': (25, 8.33), 'Udinese': (25, 8.33), 'Genoa': (25, 8.33), 'Fiorentina': (25, 8.33), 'Milan': (25, 8.33), 'Parma': (25, 8.33), 'Sampdoria': (25, 8.33), 'Inter': (25, 8.33), 'Frosinone': (25, 8.33), 'Roma': (25, 8.33), 'Cagliari': (25, 8.33)}\n"
     ]
    }
   ],
   "execution_count": 56
  },
  {
   "metadata": {
    "ExecuteTime": {
     "end_time": "2024-10-01T14:02:26.028875Z",
     "start_time": "2024-10-01T14:02:17.393085Z"
    }
   },
   "cell_type": "code",
   "source": [
    "#run the Gibbs sampler for every match\n",
    "n_iter = 50 \n",
    "sigma_t = 25/6\n",
    "\n",
    "for index, row in df_filtered.iterrows():\n",
    "    team1 = row['team1']\n",
    "    team2 = row['team2']\n",
    "    result = row['win']\n",
    "    mu_s1, sigma_s1 = skills[team1]\n",
    "    mu_s2, sigma_s2 = skills[team2]\n",
    "    s1_samples, s2_samples, t_samples = gibbs_sampler_result(mu_s1, mu_s2, sigma_s1, sigma_s2, sigma_t, n_iter, result)\n",
    "    skills[team1] = (np.mean(s1_samples), np.var(s1_samples, ddof=1))\n",
    "    skills[team2] = (np.mean(s2_samples), np.var(s2_samples, ddof=1))\n",
    "    \n",
    "    \n"
   ],
   "outputs": [],
   "execution_count": 63
  },
  {
   "metadata": {
    "ExecuteTime": {
     "end_time": "2024-10-01T14:02:28.046674Z",
     "start_time": "2024-10-01T14:02:28.042708Z"
    }
   },
   "cell_type": "code",
   "source": [
    "# Sorting the dictionary by the first value in the tuple (in ascending order)\n",
    "sorted_data = sorted(skills.items(), key=lambda x: x[1][0])\n",
    "\n",
    "\n",
    "# Print the sorted result\n",
    "for team, values in sorted_data:\n",
    "    print(f\"{team}: {values}\")"
   ],
   "outputs": [
    {
     "name": "stdout",
     "output_type": "stream",
     "text": [
      "Chievo: (np.float64(-3244.646786292374), np.float64(1031.5826532067788))\n",
      "Frosinone: (np.float64(-3133.8398535538568), np.float64(1035.7558515399785))\n",
      "Genoa: (np.float64(-1618.087487672765), np.float64(1203.2678476987035))\n",
      "Parma: (np.float64(-1387.4859742274264), np.float64(1678.5495800563544))\n",
      "Empoli: (np.float64(-1043.6459248354022), np.float64(994.2494986674492))\n",
      "Spal: (np.float64(-766.9556694473581), np.float64(643.217019662694))\n",
      "Sassuolo: (np.float64(-764.930602507306), np.float64(738.0202017047278))\n",
      "Cagliari: (np.float64(-727.8449939377856), np.float64(688.9625114112812))\n",
      "Fiorentina: (np.float64(-482.93783056357756), np.float64(623.6016636852974))\n",
      "Udinese: (np.float64(-432.3544472204578), np.float64(2638.008226820139))\n",
      "Bologna: (np.float64(-188.8543992642844), np.float64(762.9109090758334))\n",
      "Sampdoria: (np.float64(221.9539654213922), np.float64(1218.3070354492236))\n",
      "Lazio: (np.float64(859.882302979767), np.float64(1247.271209881514))\n",
      "Torino: (np.float64(1540.7343333124657), np.float64(519.7394765634525))\n",
      "Inter: (np.float64(1567.7925337434008), np.float64(996.522506401978))\n",
      "Roma: (np.float64(1740.6717678321565), np.float64(907.9556280767056))\n",
      "Milan: (np.float64(2120.8936089253666), np.float64(2153.0691220698554))\n",
      "Atalanta: (np.float64(2494.906103795128), np.float64(549.3292184437821))\n",
      "Napoli: (np.float64(3241.3902126873345), np.float64(1548.86693283582))\n",
      "Juventus: (np.float64(5049.357377333991), np.float64(1141.5909608393624))\n"
     ]
    }
   ],
   "execution_count": 64
  },
  {
   "metadata": {
    "ExecuteTime": {
     "end_time": "2024-10-01T13:53:00.898347Z",
     "start_time": "2024-10-01T13:53:00.876401Z"
    }
   },
   "cell_type": "code",
   "source": [
    "# Load the CSV data into a pandas DataFrame\n",
    "data = 'SerieA.csv'\n",
    "df_random = pd.read_csv(data)\n",
    "\n",
    "# Shuffle the DataFrame\n",
    "df_shuffled = df_random.sample(frac=1).reset_index(drop=True)\n",
    "\n",
    "# Display the shuffled DataFrame"
   ],
   "outputs": [],
   "execution_count": 53
  },
  {
   "metadata": {
    "ExecuteTime": {
     "end_time": "2024-10-01T13:30:07.512422Z",
     "start_time": "2024-10-01T13:30:07.506946Z"
    }
   },
   "cell_type": "code",
   "source": "print(df_shuffled)",
   "outputs": [
    {
     "name": "stdout",
     "output_type": "stream",
     "text": [
      "     yyyy-mm-dd  HH:MM      team1       team2  score1  score2\n",
      "0    2018-12-26  15:00    Bologna       Lazio       0       2\n",
      "1    2019-02-02  15:00     Empoli      Chievo       2       2\n",
      "2    2019-01-27  15:00   Atalanta        Roma       3       3\n",
      "3    2019-02-16  20:30   Atalanta       Milan       1       3\n",
      "4    2018-12-22  15:00     Napoli        Spal       1       0\n",
      "..          ...    ...        ...         ...     ...     ...\n",
      "375  2019-01-27  12:30     Chievo  Fiorentina       3       4\n",
      "376  2019-02-24  12:30  Sampdoria    Cagliari       1       0\n",
      "377  2019-02-17  12:30       Spal  Fiorentina       1       4\n",
      "378  2018-10-21  15:00      Parma       Lazio       0       2\n",
      "379  2019-03-17  20:30      Milan       Inter       2       3\n",
      "\n",
      "[380 rows x 6 columns]\n"
     ]
    }
   ],
   "execution_count": 40
  },
  {
   "metadata": {
    "ExecuteTime": {
     "end_time": "2024-10-01T13:30:07.537523Z",
     "start_time": "2024-10-01T13:30:07.535288Z"
    }
   },
   "cell_type": "code",
   "source": "",
   "outputs": [],
   "execution_count": null
  },
  {
   "metadata": {
    "ExecuteTime": {
     "end_time": "2024-10-01T13:30:07.561338Z",
     "start_time": "2024-10-01T13:30:07.559289Z"
    }
   },
   "cell_type": "code",
   "source": "",
   "outputs": [],
   "execution_count": null
  }
 ],
 "metadata": {
  "kernelspec": {
   "display_name": "Python 3",
   "language": "python",
   "name": "python3"
  },
  "language_info": {
   "codemirror_mode": {
    "name": "ipython",
    "version": 3
   },
   "file_extension": ".py",
   "mimetype": "text/x-python",
   "name": "python",
   "nbconvert_exporter": "python",
   "pygments_lexer": "ipython3",
   "version": "3.12.5"
  }
 },
 "nbformat": 4,
 "nbformat_minor": 2
}
