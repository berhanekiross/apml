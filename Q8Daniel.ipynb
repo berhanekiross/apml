{
 "cells": [
  {
   "cell_type": "code",
   "id": "initial_id",
   "metadata": {
    "collapsed": true,
    "ExecuteTime": {
     "end_time": "2024-10-07T07:29:10.083683Z",
     "start_time": "2024-10-07T07:29:10.070536Z"
    }
   },
   "source": [
    "import numpy as np\n",
    "from scipy.stats import truncnorm\n",
    "from six import print_\n",
    "\n",
    "\n",
    "def multiplyGauss(m1, s1, m2, s2):\n",
    "    s = 1 / (1 / s1 + 1 / s2)\n",
    "    m = (m1 / s1 + m2 / s2) * s\n",
    "    return m, s\n",
    "\n",
    "def divideGauss(m1, s1, m2, s2):\n",
    "    m,s =  multiplyGauss(m1, s1, m2, -s2)\n",
    "    return m, s\n",
    "\n",
    "def truncGaussMM(a,b,m0,s0):\n",
    "    a_scaled, b_scaled = (a - m0) / np.sqrt(s0), (b - m0) / np.sqrt(s0)\n",
    "    m = truncnorm.mean(a_scaled,b_scaled, loc=m0, scale=np.sqrt(s0))\n",
    "    s = truncnorm.var(a_scaled, b_scaled, loc=m0, scale=np.sqrt(s0))\n",
    "    return m,s \n",
    "#s"
   ],
   "outputs": [],
   "execution_count": 19
  },
  {
   "metadata": {
    "ExecuteTime": {
     "end_time": "2024-10-07T07:37:32.560894Z",
     "start_time": "2024-10-07T07:37:32.533624Z"
    }
   },
   "cell_type": "code",
   "source": [
    "m1, s1 = 25, 8.33 \n",
    "m2, s2 = 25, 8.33 \n",
    "sv = 25/6 \n",
    "y0 = 1\n",
    "mu_diff_m = m1 - m2\n",
    "mu_diff_s = s1 + s2 + sv\n",
    "\n",
    "if y0 == 1:\n",
    "    a,b = 0, np.inf\n",
    "else:\n",
    "    a,b = -np.inf, 0\n",
    "    \n",
    "pt_m, pt_s = truncGaussMM(a,b,mu_diff_m,mu_diff_s)\n",
    "\n",
    "mu1_m, mu1_s = divideGauss(m1, s1, pt_m, pt_s)\n",
    "\n",
    "updated_m1 = m1 + (pt_m * s1) / (s1 + sv)\n",
    "updated_s1 = s1 - (s1**2) / (s1 + sv)\n",
    "\n",
    "\n",
    "mu2_m, mu2_s = divideGauss(-pt_m, pt_s, -mu_diff_m, mu_diff_s)\n",
    "\n",
    "updated_m2 = m2 + mu2_m * s2 / (s2 + sv)\n",
    "updated_s2 = 1 / (1 / s2 + 1 / mu2_s)\n",
    "\n",
    "print(\"Updated Skill of Player 1: \", updated_m1, updated_s1)\n",
    "print(\"Updated Skill of Player 2: \", updated_m2, updated_s2)\n"
   ],
   "id": "acbf95ea9b256df2",
   "outputs": [
    {
     "name": "stdout",
     "output_type": "stream",
     "text": [
      "Updated Skill of Player 1:  27.427173155981116 2.77740730861563\n",
      "Updated Skill of Player 2:  21.18740532208969 4.897927664967548\n"
     ]
    }
   ],
   "execution_count": 29
  },
  {
   "metadata": {},
   "cell_type": "code",
   "outputs": [],
   "execution_count": null,
   "source": "",
   "id": "6619f08b081599d1"
  }
 ],
 "metadata": {
  "kernelspec": {
   "display_name": "Python 3",
   "language": "python",
   "name": "python3"
  },
  "language_info": {
   "codemirror_mode": {
    "name": "ipython",
    "version": 2
   },
   "file_extension": ".py",
   "mimetype": "text/x-python",
   "name": "python",
   "nbconvert_exporter": "python",
   "pygments_lexer": "ipython2",
   "version": "2.7.6"
  }
 },
 "nbformat": 4,
 "nbformat_minor": 5
}
