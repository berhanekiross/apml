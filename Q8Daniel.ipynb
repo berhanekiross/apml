{
 "cells": [
  {
   "cell_type": "code",
   "id": "initial_id",
   "metadata": {
    "collapsed": true,
    "ExecuteTime": {
     "end_time": "2024-10-04T14:34:46.888029Z",
     "start_time": "2024-10-04T14:34:46.837321Z"
    }
   },
   "source": [
    "import numpy as np\n",
    "from scipy.stats import truncnorm\n",
    "\n",
    "\n",
    "def multiplyGauss(m1, s1, m2, s2):\n",
    "    s = 1 / (1 / s1 + 1 / s2)\n",
    "    m = (m1 / s1 + m2 / s2) * s\n",
    "    return m, s\n",
    "\n",
    "def divideGauss(m1, s1, m2, s2):\n",
    "    m,s =  multiplyGauss(m1, s1, m2, -s2)\n",
    "    return m, s\n",
    "\n",
    "def truncGaussMM(a,b,m0,s0):\n",
    "    a_scaled, b_scaled = (a - m0) / np.sqrt(s0), (b - m0) / np.sqrt(s0)\n",
    "    m = truncnorm.mean(a_scaled,b_scaled, loc=m0, scale=np.sqrt(s0))\n",
    "    s = truncnorm.var(a_scaled, b_scaled, loc=m0, scale=np.sqrt(s0))\n",
    "    return m,s \n",
    "#s"
   ],
   "outputs": [],
   "execution_count": 6
  },
  {
   "metadata": {
    "ExecuteTime": {
     "end_time": "2024-10-04T14:34:47.037168Z",
     "start_time": "2024-10-04T14:34:47.029022Z"
    }
   },
   "cell_type": "code",
   "source": [
    "m0 = 0\n",
    "s0 = 1\n",
    "sv = 1\n",
    "y0 = 1\n",
    "\n",
    "mu3_m = m0\n",
    "mu3_s = s0\n",
    "mu4_m = mu3_m\n",
    "mu4_s = mu3_s\n",
    "mu5_m = mu4_m \n",
    "mu5_s = mu4_s + sv\n",
    "if y0 == 1:\n",
    "    a,b = 0, np.inf\n",
    "else:\n",
    "    a,b = -np.inf, 0\n",
    "    \n",
    "pt_m, pt_s = truncGaussMM(a,b,mu5_m,mu5_s)\n",
    "mu6_m, mu6_s = divideGauss(pt_m, pt_s, mu5_m, mu5_s)\n",
    "\n",
    "mu7_m = mu6_m\n",
    "mu7_s = mu6_s + sv\n",
    "\n",
    "px_m, px_s = multiplyGauss(mu3_m, mu3_s, mu7_m , mu7_s)\n",
    "print(px_m, px_s)"
   ],
   "id": "acbf95ea9b256df2",
   "outputs": [
    {
     "name": "stdout",
     "output_type": "stream",
     "text": [
      "0.5641895835477563 0.6816901138162093\n"
     ]
    }
   ],
   "execution_count": 7
  },
  {
   "metadata": {},
   "cell_type": "code",
   "outputs": [],
   "execution_count": null,
   "source": "",
   "id": "132c1d7e7bac46dc"
  }
 ],
 "metadata": {
  "kernelspec": {
   "display_name": "Python 3",
   "language": "python",
   "name": "python3"
  },
  "language_info": {
   "codemirror_mode": {
    "name": "ipython",
    "version": 2
   },
   "file_extension": ".py",
   "mimetype": "text/x-python",
   "name": "python",
   "nbconvert_exporter": "python",
   "pygments_lexer": "ipython2",
   "version": "2.7.6"
  }
 },
 "nbformat": 4,
 "nbformat_minor": 5
}
