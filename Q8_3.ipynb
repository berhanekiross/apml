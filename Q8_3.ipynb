{
 "cells": [
  {
   "cell_type": "code",
   "execution_count": 2,
   "metadata": {},
   "outputs": [],
   "source": [
    "import numpy as np\n",
    "from scipy.stats import truncnorm\n",
    "from six import print_\n",
    "\n",
    "\n",
    "def multiplyGauss(m1, s1, m2, s2):\n",
    "    s = 1 / (1 / s1 + 1 / s2)\n",
    "    m = (m1 / s1 + m2 / s2) * s\n",
    "    return m, s\n",
    "\n",
    "def divideGauss(m1, s1, m2, s2):\n",
    "    m,s =  multiplyGauss(m1, s1, m2, -s2)\n",
    "    return m, s\n",
    "\n",
    "def truncGaussMM(a,b,m0,s0):\n",
    "    a_scaled, b_scaled = (a - m0) / np.sqrt(s0), (b - m0) / np.sqrt(s0)\n",
    "    m = truncnorm.mean(a_scaled,b_scaled, loc=m0, scale=np.sqrt(s0))\n",
    "    s = truncnorm.var(a_scaled, b_scaled, loc=m0, scale=np.sqrt(s0))\n",
    "    return m,s "
   ]
  },
  {
   "cell_type": "code",
   "execution_count": 3,
   "metadata": {},
   "outputs": [
    {
     "name": "stdout",
     "output_type": "stream",
     "text": [
      "Mean of s1: 22.3591389781539\n",
      "Variance of s1: 49.795686038037616\n",
      "Mean of s2: 20.91401871338585\n",
      "Variance of 2: 39.04357954105098\n"
     ]
    }
   ],
   "source": [
    "\n",
    "\n",
    "m1, s1 =  25, (25/3)**2\n",
    "m2, s2 = 25, (25/3)**2\n",
    "sv = (25/6)**2 \n",
    "y0 = 1\n",
    "mu_diff_m = m1 - m2\n",
    "mu_diff_s = s1 + s2 + sv\n",
    "\n",
    "mu3_m = m1\n",
    "mu3_s = s1\n",
    "\n",
    "mu4_m = mu3_m\n",
    "mu4_s = mu3_s\n",
    "\n",
    "mu5_m = mu_diff_m \n",
    "mu5_s = mu_diff_s \n",
    "\n",
    "if y0 == 1:\n",
    "    a,b = 0, np.inf\n",
    "else:\n",
    "    a,b = -np.inf, 0\n",
    "\n",
    "\n",
    "pt_m, pt_s = truncGaussMM(a, b, mu5_m, mu5_s)\n",
    "# Compute the message from t to f_3\n",
    "mu6_m, mu6_s = divideGauss(pt_m, pt_s, mu5_m, mu5_s)\n",
    "# Compute the message from f_3 to s1\n",
    "mu7_m = mu6_m  \n",
    "mu7_s = mu6_s +s1+sv\n",
    "# Compute the message from f_3 to s2\n",
    "mu8_m=mu6_m\n",
    "mu8_s=mu6_s+s2+sv\n",
    "\n",
    "# Compute the marginal of s1\n",
    "px_m, px_s = multiplyGauss(mu3_m, mu3_s, mu7_m, mu7_s)\n",
    "print(f\"Mean of s1: {px_m}\")\n",
    "print(f\"Variance of s1: {px_s}\")\n",
    "\n",
    "\n",
    "#compute the message from f_3 to s2\n",
    "mu_8m = mu6_m \n",
    "mu_8s = mu6_s \n",
    "#marginal of s2\n",
    "px_m, px_s = multiplyGauss(mu3_m, mu3_s, mu_8m, mu_8s)\n",
    "print(f\"Mean of s2: {px_m}\")\n",
    "print(f\"Variance of 2: {px_s}\")"
   ]
  },
  {
   "cell_type": "code",
   "execution_count": null,
   "metadata": {},
   "outputs": [],
   "source": []
  }
 ],
 "metadata": {
  "kernelspec": {
   "display_name": "base",
   "language": "python",
   "name": "python3"
  },
  "language_info": {
   "codemirror_mode": {
    "name": "ipython",
    "version": 3
   },
   "file_extension": ".py",
   "mimetype": "text/x-python",
   "name": "python",
   "nbconvert_exporter": "python",
   "pygments_lexer": "ipython3",
   "version": "3.11.4"
  }
 },
 "nbformat": 4,
 "nbformat_minor": 2
}
