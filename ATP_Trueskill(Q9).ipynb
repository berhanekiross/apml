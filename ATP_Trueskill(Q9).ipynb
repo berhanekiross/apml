{
 "cells": [
  {
   "metadata": {
    "ExecuteTime": {
     "end_time": "2024-10-04T09:43:18.746103Z",
     "start_time": "2024-10-04T09:43:18.736949Z"
    }
   },
   "cell_type": "code",
   "source": "import pandas as pd\n",
   "id": "bbd98cab7564b820",
   "outputs": [],
   "execution_count": 41
  },
  {
   "metadata": {
    "ExecuteTime": {
     "end_time": "2024-10-04T09:44:00.394722Z",
     "start_time": "2024-10-04T09:44:00.326934Z"
    }
   },
   "cell_type": "code",
   "source": [
    "df = pd.read_csv('atp_matches_2024.csv')\n",
    "df = df[['winner_id', 'winner_name', 'loser_id', 'loser_name']]\n",
    "\n",
    "player_names = df[['winner_id', 'winner_name']]\n",
    "player_names = player_names.rename(columns={'winner_id':'player_id', 'winner_name':'player_name'})\n",
    "player_names = player_names.drop_duplicates()\n"
   ],
   "id": "7c9f4e7becf017b6",
   "outputs": [],
   "execution_count": 44
  },
  {
   "metadata": {
    "ExecuteTime": {
     "end_time": "2024-10-04T09:44:01.029184Z",
     "start_time": "2024-10-04T09:44:00.990927Z"
    }
   },
   "cell_type": "code",
   "source": [
    "import numpy as np\n",
    "from scipy.stats import truncnorm, norm\n",
    "\n",
    "\n",
    "def conditional_outcome(s1, s2, result, sigma_t):\n",
    "    mean_diff = s1 - s2\n",
    "    std_diff = sigma_t\n",
    "\n",
    "    if result == 1:\n",
    "        a, b = 0, np.inf\n",
    "    else:\n",
    "        a, b = -np.inf, 0\n",
    "\n",
    "    a_std = (a - mean_diff) / std_diff\n",
    "    b_std = (b - mean_diff) / std_diff\n",
    "\n",
    "    return a_std, b_std, mean_diff, std_diff\n",
    "\n",
    "def gibbs_sampler_result(mu_s1, mu_s2, sigma_s1, sigma_s2, sigma_t, n_iter, result):\n",
    "    s1_samples = np.zeros(n_iter)\n",
    "    s2_samples = np.zeros(n_iter)\n",
    "    t_samples = np.zeros(n_iter)\n",
    "    y_samples = np.zeros(n_iter)\n",
    "\n",
    "    s1_current = mu_s1\n",
    "    s2_current = mu_s2\n",
    "\n",
    "    mu_prior = np.array([mu_s1, mu_s2]).reshape((2, 1))\n",
    "    sigma_prior = np.array([[sigma_s1, 0], [0, sigma_s2]])\n",
    "    sigma_prior_inv = np.linalg.inv(sigma_prior)\n",
    "\n",
    "    A = np.array([1, -1]).reshape((1, 2))\n",
    "    A_T = A.T\n",
    "\n",
    "    for i in range(n_iter):\n",
    "        a_std, b_std, mean_diff, std_diff = conditional_outcome(s1_current, s2_current, result, sigma_t)\n",
    "        t_current = truncnorm.rvs(a=a_std, b=b_std, loc=mean_diff, scale=std_diff)\n",
    "        sigma_post = np.linalg.inv(sigma_prior_inv + (A_T @ A) / sigma_t**2)\n",
    "        mu_post = sigma_post @ (sigma_prior_inv @ mu_prior + (A_T * t_current) / sigma_t**2)\n",
    "        s1_current, s2_current = np.random.multivariate_normal(mu_post.flatten(), sigma_post)\n",
    "        s1_samples[i] = s1_current\n",
    "        s2_samples[i] = s2_current\n",
    "        t_samples[i] = t_current\n",
    "        y_samples[i] = result\n",
    "\n",
    "    mean_s1 = np.mean(s1_samples)\n",
    "    var_s1 = np.var(s1_samples, ddof=1)\n",
    "    mean_s2 = np.mean(s2_samples)\n",
    "    var_s2 = np.var(s2_samples, ddof=1)\n",
    "\n",
    "    return mean_s1, var_s1, mean_s2, var_s2\n",
    "\n",
    "def win_probability_player1(mu_s1, mu_s2, sigma_s1, sigma_s2, sigma_t):\n",
    "    mu_diff = mu_s1 - mu_s2\n",
    "    sigma_diff = np.sqrt(sigma_s1 + sigma_s2 + sigma_t**2)\n",
    "    p_y1 = 1 - norm.cdf(0, loc=mu_diff, scale=sigma_diff)\n",
    "    return p_y1\n",
    "\n",
    "\n"
   ],
   "id": "20b816015c4962b1",
   "outputs": [],
   "execution_count": 45
  },
  {
   "metadata": {
    "ExecuteTime": {
     "end_time": "2024-10-04T09:44:01.576368Z",
     "start_time": "2024-10-04T09:44:01.526744Z"
    }
   },
   "cell_type": "code",
   "source": [
    "skills = {}\n",
    "for index, row in df.iterrows():\n",
    "    if row['winner_id'] not in skills:\n",
    "        skills[row['winner_id']] = (25, 8.333)\n",
    "    if row['loser_id'] not in skills:\n",
    "        skills[row['loser_id']] = (25, 8.333)"
   ],
   "id": "7630d241910957b4",
   "outputs": [],
   "execution_count": 46
  },
  {
   "metadata": {
    "ExecuteTime": {
     "end_time": "2024-10-04T09:44:14.619950Z",
     "start_time": "2024-10-04T09:44:02.080631Z"
    }
   },
   "cell_type": "code",
   "source": [
    "n_iter = 100\n",
    "sigma_t = 25/6\n",
    "\n",
    "for index, row in df.iterrows():\n",
    "    team1 = row['winner_id']\n",
    "    team2 = row['loser_id']\n",
    "    result = 1\n",
    "    mu_s1, sigma_s1 = skills[team1]\n",
    "    mu_s2, sigma_s2 = skills[team2]\n",
    "    \n",
    "    mean_s1, var_s1, mean_s2, var_s2 = gibbs_sampler_result(mu_s1, mu_s2, sigma_s1, sigma_s2, sigma_t, n_iter, result)\n",
    "    \n",
    "    skills[team1] = (mean_s1, var_s1)\n",
    "    skills[team2] = (mean_s2, var_s2)\n",
    "    "
   ],
   "id": "a9769dd293e71368",
   "outputs": [],
   "execution_count": 47
  },
  {
   "metadata": {
    "ExecuteTime": {
     "end_time": "2024-10-04T10:45:27.040689Z",
     "start_time": "2024-10-04T10:45:26.902955Z"
    }
   },
   "cell_type": "code",
   "source": [
    "sorted_skills = sorted(skills.items(), key=lambda x: x[1][0], reverse=True)\n",
    "\n",
    "for player in sorted_skills:\n",
    "    player_id = player[0]\n",
    "    player_name = player_names[player_names['player_id'] == player_id]['player_name'].values[0]\n",
    "    player_skill = player[1][0]\n",
    "    print(f'{player_name}: {player_skill:.2f}')"
   ],
   "id": "19c2ebd4a50026e0",
   "outputs": [
    {
     "name": "stdout",
     "output_type": "stream",
     "text": [
      "Jannik Sinner: 30.79\n",
      "Carlos Alcaraz: 29.92\n",
      "Alexander Zverev: 28.72\n",
      "Daniil Medvedev: 28.70\n",
      "Grigor Dimitrov: 28.65\n",
      "Tommy Paul: 28.49\n",
      "Karen Khachanov: 28.23\n",
      "Taylor Fritz: 28.21\n",
      "Alex De Minaur: 28.16\n",
      "Hubert Hurkacz: 28.14\n",
      "Andrey Rublev: 28.07\n",
      "Casper Ruud: 27.93\n",
      "Stefanos Tsitsipas: 27.77\n",
      "Giovanni Mpetshi Perricard: 27.72\n",
      "Rafael Nadal: 27.70\n",
      "Novak Djokovic: 27.69\n",
      "Holger Rune: 27.67\n",
      "Jiri Lehecka: 27.60\n",
      "Timofey Skatov: 27.51\n",
      "Ugo Humbert: 27.49\n",
      "Thiago Monteiro: 27.31\n",
      "Yi Zhou: 27.31\n",
      "Ricardas Berankis: 27.30\n",
      "Alejandro Tabilo: 27.29\n",
      "Facundo Bagnis: 27.15\n",
      "Nam Hoang Ly: 27.14\n",
      "Cristian Garin: 27.08\n",
      "Fitriadi M Rifqi: 27.05\n",
      "Tomas Machac: 27.02\n",
      "Blaise Bicknell: 26.85\n",
      "Felix Auger Aliassime: 26.83\n",
      "Alexander Bublik: 26.82\n",
      "Otto Virtanen: 26.82\n",
      "Martin Damm: 26.78\n",
      "Tallon Griekspoor: 26.75\n",
      "Luciano Darderi: 26.74\n",
      "Dominik Koepfer: 26.71\n",
      "Alejandro Davidovich Fokina: 26.66\n",
      "Pedro Martinez: 26.65\n",
      "Moez Echargui: 26.64\n",
      "Ramkumar Ramanathan: 26.64\n",
      "Murkel Alejandro Dellien Velasco: 26.60\n",
      "Jan Lennard Struff: 26.58\n",
      "Andres Andrade: 26.54\n",
      "Elmer Moller: 26.48\n",
      "Arthur Cazaux: 26.47\n",
      "Jakub Mensik: 26.45\n",
      "Marcelo Arevalo: 26.43\n",
      "Jack Draper: 26.41\n",
      "Hamad Medjedovic: 26.37\n",
      "Juan Carlos Prado Angelo: 26.34\n",
      "Nerman Fatic: 26.32\n",
      "Petr Nesterov: 26.28\n",
      "Diego Duran: 26.24\n",
      "Benedict Badza: 26.22\n",
      "Matteo Arnaldi: 26.20\n",
      "Zsombor Piros: 26.20\n",
      "Ben Shelton: 26.15\n",
      "Juan Carlos Fuentes Vasquez: 26.14\n",
      "Yanki Erel: 26.14\n",
      "Damir Dzumhur: 26.09\n",
      "Mohamed Safwat: 26.07\n",
      "Gabriel Diallo: 26.07\n",
      "N Sriram Balaji: 26.06\n",
      "Yassine Dlimi: 26.06\n",
      "Amr Elsayed Abdou Ahmed Mohamed: 26.05\n",
      "Altug Celikbilek: 26.03\n",
      "Stylianos Christodoulou: 26.03\n",
      "Niki Kaliyanda Poonacha: 26.02\n",
      "Milos Raonic: 26.01\n",
      "Lukas Klein: 25.98\n",
      "Marton Fucsovics: 25.98\n",
      "Maks Kasnikowski: 25.98\n",
      "Ignacio Buse: 25.97\n",
      "Viktor Durasovic: 25.94\n",
      "Flavio Cobolli: 25.93\n",
      "Mariano Navone: 25.93\n",
      "Aristotelis Thanos: 25.92\n",
      "Kamil Majchrzak: 25.89\n",
      "Vasek Pospisil: 25.88\n",
      "Boris Arias: 25.87\n",
      "Lucas Miedler: 25.87\n",
      "Juncheng Shang: 25.83\n",
      "Sebastian Baez: 25.83\n",
      "Hong Kit Jack Wong: 25.82\n",
      "Henrique Rocha: 25.81\n",
      "Jordan Thompson: 25.75\n",
      "Alexandre Muller: 25.74\n",
      "Valentin Vacherot: 25.73\n",
      "Nicolai Budkov Kjaer: 25.62\n",
      "Elias Ymer: 25.51\n",
      "Stefano Napolitano: 25.51\n",
      "Ioannis Xilas: 25.51\n",
      "Kris Van Wyk: 25.46\n",
      "Lukas Pokorny: 25.44\n",
      "Nicolas Jarry: 25.40\n",
      "Marco Trungelliti: 25.38\n",
      "Quentin Halys: 25.38\n",
      "Nuno Borges: 25.37\n",
      "Chris Rodesch: 25.33\n",
      "Alex Knaff: 25.30\n",
      "Michael Mmoh: 25.29\n",
      "Alexei Popyrin: 25.27\n",
      "Jan Choinski: 25.25\n",
      "Gael Monfils: 25.25\n",
      "Tomas Martin Etcheverry: 25.24\n",
      "Fabian Marozsan: 25.22\n",
      "Radu Albot: 25.22\n",
      "Saba Purtseladze: 25.21\n",
      "Gregoire Barrere: 25.19\n",
      "Adria Soriano Barrera: 25.15\n",
      "Cameron Norrie: 25.13\n",
      "Sebastian Korda: 25.13\n",
      "Pablo Llamas Ruiz: 25.13\n",
      "James Duckworth: 25.13\n",
      "Pavel Kotov: 25.12\n",
      "Leandro Riedi: 25.11\n",
      "Thiago Agustin Tirante: 25.08\n",
      "Darian King: 25.07\n",
      "Christopher Oconnell: 25.06\n",
      "Nicolas Mejia: 25.06\n",
      "Brandon Nakashima: 25.03\n",
      "Fabio Fognini: 25.01\n",
      "Thiago Seyboth Wild: 24.99\n",
      "Roberto Carballes Baena: 24.97\n",
      "Sebastian Dominko: 24.97\n",
      "Emil Ruusuvuori: 24.93\n",
      "Francisco Cerundolo: 24.91\n",
      "Vilius Gaubas: 24.90\n",
      "Thomas Yaka Kofi Setodji: 24.89\n",
      "Patrick Kypson: 24.89\n",
      "Felipe Meligeni Alves: 24.89\n"
     ]
    },
    {
     "ename": "IndexError",
     "evalue": "index 0 is out of bounds for axis 0 with size 0",
     "output_type": "error",
     "traceback": [
      "\u001B[0;31m---------------------------------------------------------------------------\u001B[0m",
      "\u001B[0;31mIndexError\u001B[0m                                Traceback (most recent call last)",
      "Cell \u001B[0;32mIn[69], line 7\u001B[0m\n\u001B[1;32m      5\u001B[0m \u001B[38;5;28;01mfor\u001B[39;00m player \u001B[38;5;129;01min\u001B[39;00m sorted_skills:\n\u001B[1;32m      6\u001B[0m     player_id \u001B[38;5;241m=\u001B[39m player[\u001B[38;5;241m0\u001B[39m]\n\u001B[0;32m----> 7\u001B[0m     player_name \u001B[38;5;241m=\u001B[39m \u001B[43mplayer_names\u001B[49m\u001B[43m[\u001B[49m\u001B[43mplayer_names\u001B[49m\u001B[43m[\u001B[49m\u001B[38;5;124;43m'\u001B[39;49m\u001B[38;5;124;43mplayer_id\u001B[39;49m\u001B[38;5;124;43m'\u001B[39;49m\u001B[43m]\u001B[49m\u001B[43m \u001B[49m\u001B[38;5;241;43m==\u001B[39;49m\u001B[43m \u001B[49m\u001B[43mplayer_id\u001B[49m\u001B[43m]\u001B[49m\u001B[43m[\u001B[49m\u001B[38;5;124;43m'\u001B[39;49m\u001B[38;5;124;43mplayer_name\u001B[39;49m\u001B[38;5;124;43m'\u001B[39;49m\u001B[43m]\u001B[49m\u001B[38;5;241;43m.\u001B[39;49m\u001B[43mvalues\u001B[49m\u001B[43m[\u001B[49m\u001B[38;5;241;43m0\u001B[39;49m\u001B[43m]\u001B[49m\n\u001B[1;32m      8\u001B[0m     player_skill \u001B[38;5;241m=\u001B[39m player[\u001B[38;5;241m1\u001B[39m][\u001B[38;5;241m0\u001B[39m]\n\u001B[1;32m      9\u001B[0m     \u001B[38;5;28mprint\u001B[39m(\u001B[38;5;124mf\u001B[39m\u001B[38;5;124m'\u001B[39m\u001B[38;5;132;01m{\u001B[39;00mplayer_name\u001B[38;5;132;01m}\u001B[39;00m\u001B[38;5;124m: \u001B[39m\u001B[38;5;132;01m{\u001B[39;00mplayer_skill\u001B[38;5;132;01m:\u001B[39;00m\u001B[38;5;124m.2f\u001B[39m\u001B[38;5;132;01m}\u001B[39;00m\u001B[38;5;124m'\u001B[39m)\n",
      "\u001B[0;31mIndexError\u001B[0m: index 0 is out of bounds for axis 0 with size 0"
     ]
    }
   ],
   "execution_count": 69
  },
  {
   "metadata": {},
   "cell_type": "code",
   "outputs": [],
   "execution_count": null,
   "source": "",
   "id": "f49cc71f9e169c6e"
  }
 ],
 "metadata": {
  "kernelspec": {
   "display_name": "Python 3",
   "language": "python",
   "name": "python3"
  },
  "language_info": {
   "codemirror_mode": {
    "name": "ipython",
    "version": 2
   },
   "file_extension": ".py",
   "mimetype": "text/x-python",
   "name": "python",
   "nbconvert_exporter": "python",
   "pygments_lexer": "ipython2",
   "version": "2.7.6"
  }
 },
 "nbformat": 4,
 "nbformat_minor": 5
}
